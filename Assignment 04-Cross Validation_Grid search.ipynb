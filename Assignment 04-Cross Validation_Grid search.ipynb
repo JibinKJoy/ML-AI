{
 "cells": [
  {
   "cell_type": "markdown",
   "id": "323feeaf",
   "metadata": {},
   "source": [
    "# Assignment 04\n",
    "\n",
    "# Cross Validation, Grid search"
   ]
  },
  {
   "cell_type": "markdown",
   "id": "682bb6e9",
   "metadata": {},
   "source": [
    "### Objectives:\n",
    "\n",
    "1. Load titanic.csv file. \n",
    "\n",
    "2. Select 'Pclass','SibSp','Parch','Fare' columns as data. Select ‘Survived’ column as label. \n",
    "\n",
    "3. Apply Logistic regression, KNN, SVM, Decision tree and random forest to classify the data. \n",
    "\n",
    "4. Use K-Fold Cross Validation to generalise the model accuracy. \n",
    "\n",
    "5. Use grid search to identify the best possible SVM model from the following search space:\n",
    "\n",
    "* 'C': [0.1, 1, 10, 100, 1000]\n",
    "* 'gamma': [1, 0.1, 0.01, 0.001, 0.0001]\n",
    "* 'kernel': ['rbf']\n"
   ]
  },
  {
   "cell_type": "code",
   "execution_count": 1,
   "id": "c9965d80",
   "metadata": {},
   "outputs": [],
   "source": [
    "# import libraries\n",
    "\n",
    "import pandas as pd\n",
    "import numpy as np\n",
    "import matplotlib.pyplot as plt\n",
    "from sklearn.metrics import accuracy_score,classification_report,confusion_matrix\n",
    "\n",
    "import warnings\n",
    "warnings.filterwarnings('ignore')"
   ]
  },
  {
   "cell_type": "markdown",
   "id": "ad194638",
   "metadata": {},
   "source": [
    "## Loading Dataset "
   ]
  },
  {
   "cell_type": "code",
   "execution_count": 2,
   "id": "907f1cf8",
   "metadata": {},
   "outputs": [
    {
     "data": {
      "text/html": [
       "<div>\n",
       "<style scoped>\n",
       "    .dataframe tbody tr th:only-of-type {\n",
       "        vertical-align: middle;\n",
       "    }\n",
       "\n",
       "    .dataframe tbody tr th {\n",
       "        vertical-align: top;\n",
       "    }\n",
       "\n",
       "    .dataframe thead th {\n",
       "        text-align: right;\n",
       "    }\n",
       "</style>\n",
       "<table border=\"1\" class=\"dataframe\">\n",
       "  <thead>\n",
       "    <tr style=\"text-align: right;\">\n",
       "      <th></th>\n",
       "      <th>PassengerId</th>\n",
       "      <th>Survived</th>\n",
       "      <th>Pclass</th>\n",
       "      <th>Name</th>\n",
       "      <th>Sex</th>\n",
       "      <th>Age</th>\n",
       "      <th>SibSp</th>\n",
       "      <th>Parch</th>\n",
       "      <th>Ticket</th>\n",
       "      <th>Fare</th>\n",
       "      <th>Cabin</th>\n",
       "      <th>Embarked</th>\n",
       "    </tr>\n",
       "  </thead>\n",
       "  <tbody>\n",
       "    <tr>\n",
       "      <th>0</th>\n",
       "      <td>1</td>\n",
       "      <td>0</td>\n",
       "      <td>3</td>\n",
       "      <td>Braund, Mr. Owen Harris</td>\n",
       "      <td>male</td>\n",
       "      <td>22.0</td>\n",
       "      <td>1</td>\n",
       "      <td>0</td>\n",
       "      <td>A/5 21171</td>\n",
       "      <td>7.2500</td>\n",
       "      <td>NaN</td>\n",
       "      <td>S</td>\n",
       "    </tr>\n",
       "    <tr>\n",
       "      <th>1</th>\n",
       "      <td>2</td>\n",
       "      <td>1</td>\n",
       "      <td>1</td>\n",
       "      <td>Cumings, Mrs. John Bradley (Florence Briggs Th...</td>\n",
       "      <td>female</td>\n",
       "      <td>38.0</td>\n",
       "      <td>1</td>\n",
       "      <td>0</td>\n",
       "      <td>PC 17599</td>\n",
       "      <td>71.2833</td>\n",
       "      <td>C85</td>\n",
       "      <td>C</td>\n",
       "    </tr>\n",
       "    <tr>\n",
       "      <th>2</th>\n",
       "      <td>3</td>\n",
       "      <td>1</td>\n",
       "      <td>3</td>\n",
       "      <td>Heikkinen, Miss. Laina</td>\n",
       "      <td>female</td>\n",
       "      <td>26.0</td>\n",
       "      <td>0</td>\n",
       "      <td>0</td>\n",
       "      <td>STON/O2. 3101282</td>\n",
       "      <td>7.9250</td>\n",
       "      <td>NaN</td>\n",
       "      <td>S</td>\n",
       "    </tr>\n",
       "    <tr>\n",
       "      <th>3</th>\n",
       "      <td>4</td>\n",
       "      <td>1</td>\n",
       "      <td>1</td>\n",
       "      <td>Futrelle, Mrs. Jacques Heath (Lily May Peel)</td>\n",
       "      <td>female</td>\n",
       "      <td>35.0</td>\n",
       "      <td>1</td>\n",
       "      <td>0</td>\n",
       "      <td>113803</td>\n",
       "      <td>53.1000</td>\n",
       "      <td>C123</td>\n",
       "      <td>S</td>\n",
       "    </tr>\n",
       "    <tr>\n",
       "      <th>4</th>\n",
       "      <td>5</td>\n",
       "      <td>0</td>\n",
       "      <td>3</td>\n",
       "      <td>Allen, Mr. William Henry</td>\n",
       "      <td>male</td>\n",
       "      <td>35.0</td>\n",
       "      <td>0</td>\n",
       "      <td>0</td>\n",
       "      <td>373450</td>\n",
       "      <td>8.0500</td>\n",
       "      <td>NaN</td>\n",
       "      <td>S</td>\n",
       "    </tr>\n",
       "  </tbody>\n",
       "</table>\n",
       "</div>"
      ],
      "text/plain": [
       "   PassengerId  Survived  Pclass  \\\n",
       "0            1         0       3   \n",
       "1            2         1       1   \n",
       "2            3         1       3   \n",
       "3            4         1       1   \n",
       "4            5         0       3   \n",
       "\n",
       "                                                Name     Sex   Age  SibSp  \\\n",
       "0                            Braund, Mr. Owen Harris    male  22.0      1   \n",
       "1  Cumings, Mrs. John Bradley (Florence Briggs Th...  female  38.0      1   \n",
       "2                             Heikkinen, Miss. Laina  female  26.0      0   \n",
       "3       Futrelle, Mrs. Jacques Heath (Lily May Peel)  female  35.0      1   \n",
       "4                           Allen, Mr. William Henry    male  35.0      0   \n",
       "\n",
       "   Parch            Ticket     Fare Cabin Embarked  \n",
       "0      0         A/5 21171   7.2500   NaN        S  \n",
       "1      0          PC 17599  71.2833   C85        C  \n",
       "2      0  STON/O2. 3101282   7.9250   NaN        S  \n",
       "3      0            113803  53.1000  C123        S  \n",
       "4      0            373450   8.0500   NaN        S  "
      ]
     },
     "execution_count": 2,
     "metadata": {},
     "output_type": "execute_result"
    }
   ],
   "source": [
    "df = pd.read_csv('titanic.csv')\n",
    "df.head()"
   ]
  },
  {
   "cell_type": "code",
   "execution_count": 3,
   "id": "a0201ee0",
   "metadata": {},
   "outputs": [
    {
     "name": "stdout",
     "output_type": "stream",
     "text": [
      "<class 'pandas.core.frame.DataFrame'>\n",
      "RangeIndex: 891 entries, 0 to 890\n",
      "Data columns (total 12 columns):\n",
      " #   Column       Non-Null Count  Dtype  \n",
      "---  ------       --------------  -----  \n",
      " 0   PassengerId  891 non-null    int64  \n",
      " 1   Survived     891 non-null    int64  \n",
      " 2   Pclass       891 non-null    int64  \n",
      " 3   Name         891 non-null    object \n",
      " 4   Sex          891 non-null    object \n",
      " 5   Age          714 non-null    float64\n",
      " 6   SibSp        891 non-null    int64  \n",
      " 7   Parch        891 non-null    int64  \n",
      " 8   Ticket       891 non-null    object \n",
      " 9   Fare         891 non-null    float64\n",
      " 10  Cabin        204 non-null    object \n",
      " 11  Embarked     889 non-null    object \n",
      "dtypes: float64(2), int64(5), object(5)\n",
      "memory usage: 83.7+ KB\n"
     ]
    }
   ],
   "source": [
    "df.info()"
   ]
  },
  {
   "cell_type": "markdown",
   "id": "f7596694",
   "metadata": {},
   "source": [
    "**Inferences:**\n",
    "* There are some null values in Age and Cabin columns.\n",
    "* There are 891 observations and 12 features"
   ]
  },
  {
   "cell_type": "code",
   "execution_count": 4,
   "id": "df8027e2",
   "metadata": {},
   "outputs": [],
   "source": [
    "#Select 'Pclass','SibSp','Parch','Fare' columns as data. Select ‘Survived’ column as label.\n",
    "\n",
    "X = df[['Pclass','SibSp','Parch','Fare']]\n",
    "y = df.Survived"
   ]
  },
  {
   "cell_type": "code",
   "execution_count": 5,
   "id": "43d2ed8e",
   "metadata": {},
   "outputs": [
    {
     "data": {
      "text/html": [
       "<div>\n",
       "<style scoped>\n",
       "    .dataframe tbody tr th:only-of-type {\n",
       "        vertical-align: middle;\n",
       "    }\n",
       "\n",
       "    .dataframe tbody tr th {\n",
       "        vertical-align: top;\n",
       "    }\n",
       "\n",
       "    .dataframe thead th {\n",
       "        text-align: right;\n",
       "    }\n",
       "</style>\n",
       "<table border=\"1\" class=\"dataframe\">\n",
       "  <thead>\n",
       "    <tr style=\"text-align: right;\">\n",
       "      <th></th>\n",
       "      <th>Pclass</th>\n",
       "      <th>SibSp</th>\n",
       "      <th>Parch</th>\n",
       "      <th>Fare</th>\n",
       "    </tr>\n",
       "  </thead>\n",
       "  <tbody>\n",
       "    <tr>\n",
       "      <th>0</th>\n",
       "      <td>3</td>\n",
       "      <td>1</td>\n",
       "      <td>0</td>\n",
       "      <td>7.2500</td>\n",
       "    </tr>\n",
       "    <tr>\n",
       "      <th>1</th>\n",
       "      <td>1</td>\n",
       "      <td>1</td>\n",
       "      <td>0</td>\n",
       "      <td>71.2833</td>\n",
       "    </tr>\n",
       "    <tr>\n",
       "      <th>2</th>\n",
       "      <td>3</td>\n",
       "      <td>0</td>\n",
       "      <td>0</td>\n",
       "      <td>7.9250</td>\n",
       "    </tr>\n",
       "    <tr>\n",
       "      <th>3</th>\n",
       "      <td>1</td>\n",
       "      <td>1</td>\n",
       "      <td>0</td>\n",
       "      <td>53.1000</td>\n",
       "    </tr>\n",
       "    <tr>\n",
       "      <th>4</th>\n",
       "      <td>3</td>\n",
       "      <td>0</td>\n",
       "      <td>0</td>\n",
       "      <td>8.0500</td>\n",
       "    </tr>\n",
       "  </tbody>\n",
       "</table>\n",
       "</div>"
      ],
      "text/plain": [
       "   Pclass  SibSp  Parch     Fare\n",
       "0       3      1      0   7.2500\n",
       "1       1      1      0  71.2833\n",
       "2       3      0      0   7.9250\n",
       "3       1      1      0  53.1000\n",
       "4       3      0      0   8.0500"
      ]
     },
     "execution_count": 5,
     "metadata": {},
     "output_type": "execute_result"
    }
   ],
   "source": [
    "X.head()"
   ]
  },
  {
   "cell_type": "markdown",
   "id": "2fb2372a",
   "metadata": {},
   "source": [
    "## Model Building"
   ]
  },
  {
   "cell_type": "code",
   "execution_count": 6,
   "id": "752c8f96",
   "metadata": {},
   "outputs": [],
   "source": [
    "# Apply Logistic regression, KNN, SVM, Decision tree and random forest to classify the data.\n",
    "\n",
    "from sklearn.model_selection import train_test_split\n",
    "X_train, X_test, y_train, y_test = train_test_split(X, y, test_size=0.20)"
   ]
  },
  {
   "cell_type": "markdown",
   "id": "f2cdd3d7",
   "metadata": {},
   "source": [
    "### Logisitic Regression"
   ]
  },
  {
   "cell_type": "code",
   "execution_count": 7,
   "id": "0fcd1950",
   "metadata": {},
   "outputs": [
    {
     "name": "stdout",
     "output_type": "stream",
     "text": [
      "Accuracy Score:\n",
      " 0.6368715083798883\n",
      "Confusion Matrix:\n",
      " [[83 19]\n",
      " [46 31]]\n",
      "Classification Report:\n",
      "               precision    recall  f1-score   support\n",
      "\n",
      "           0       0.64      0.81      0.72       102\n",
      "           1       0.62      0.40      0.49        77\n",
      "\n",
      "    accuracy                           0.64       179\n",
      "   macro avg       0.63      0.61      0.60       179\n",
      "weighted avg       0.63      0.64      0.62       179\n",
      "\n"
     ]
    }
   ],
   "source": [
    "from sklearn.linear_model import LogisticRegression\n",
    "model = LogisticRegression()\n",
    "model.fit(X_train,y_train)\n",
    "y_pred = model.predict(X_test)\n",
    "\n",
    "print('Accuracy Score:\\n',accuracy_score(y_test, y_pred))\n",
    "print('Confusion Matrix:\\n',confusion_matrix(y_test, y_pred))\n",
    "print('Classification Report:\\n',classification_report(y_test,y_pred))"
   ]
  },
  {
   "cell_type": "code",
   "execution_count": 8,
   "id": "0c3650b0",
   "metadata": {},
   "outputs": [
    {
     "name": "stdout",
     "output_type": "stream",
     "text": [
      "Cross Validation Scores are: [0.62569832 0.66853933 0.66853933 0.69662921 0.75280899]\n",
      "\n",
      "Average of Cross Validation Scores: 0.6824430355909861\n"
     ]
    }
   ],
   "source": [
    "# Use K-Fold Cross Validation to generalise the model accuracy.\n",
    "\n",
    "from sklearn.model_selection import cross_val_score,KFold\n",
    "model = LogisticRegression()\n",
    "kf=KFold(n_splits=5)\n",
    "score=cross_val_score(model,X,y,cv=kf)\n",
    "\n",
    "print(\"Cross Validation Scores are: {}\\n\".format(score))\n",
    "\n",
    "print(\"Average of Cross Validation Scores: {}\".format(score.mean()))"
   ]
  },
  {
   "cell_type": "markdown",
   "id": "09774390",
   "metadata": {},
   "source": [
    "### KNN"
   ]
  },
  {
   "cell_type": "code",
   "execution_count": 9,
   "id": "4f6fcb33",
   "metadata": {},
   "outputs": [],
   "source": [
    "from sklearn.neighbors import KNeighborsClassifier as knn\n",
    "\n",
    "# next step is to find optimum k value\n",
    "# so we want to create model for varied k value inorder to get accuracy of each k value.\n",
    "# then proceed with model building with k value of higher accuracy\n",
    "\n",
    "acc_val=[]\n",
    "neighbors=np.arange(1,15)\n",
    "for k in neighbors:\n",
    "    classifier=knn(n_neighbors=k,metric='minkowski')\n",
    "    classifier.fit(X_train,y_train)\n",
    "    y_pred=classifier.predict(X_test)\n",
    "    acc=accuracy_score(y_test,y_pred)\n",
    "    acc_val.append(acc)"
   ]
  },
  {
   "cell_type": "code",
   "execution_count": 10,
   "id": "75a016fc",
   "metadata": {},
   "outputs": [
    {
     "data": {
      "image/png": "[encoded data removed]",
      "text/plain": [
       "<Figure size 432x288 with 1 Axes>"
      ]
     },
     "metadata": {
      "needs_background": "light"
     },
     "output_type": "display_data"
    }
   ],
   "source": [
    "plt.plot(neighbors,acc_val,'o-')\n",
    "plt.xlabel('K - values')\n",
    "plt.ylabel('Accuracy values')\n",
    "plt.show()"
   ]
  },
  {
   "cell_type": "code",
   "execution_count": 11,
   "id": "90d49a60",
   "metadata": {},
   "outputs": [
    {
     "name": "stdout",
     "output_type": "stream",
     "text": [
      "Accuracy Score:\n",
      " 0.6424581005586593\n",
      "Confusion Matrix:\n",
      " [[80 22]\n",
      " [42 35]]\n",
      "Classification Report:\n",
      "               precision    recall  f1-score   support\n",
      "\n",
      "           0       0.66      0.78      0.71       102\n",
      "           1       0.61      0.45      0.52        77\n",
      "\n",
      "    accuracy                           0.64       179\n",
      "   macro avg       0.63      0.62      0.62       179\n",
      "weighted avg       0.64      0.64      0.63       179\n",
      "\n"
     ]
    }
   ],
   "source": [
    "from sklearn.neighbors import KNeighborsClassifier\n",
    "\n",
    "model_knn = KNeighborsClassifier(n_neighbors=11)\n",
    "model_knn.fit(X_train,y_train)\n",
    "\n",
    "y_pred = model_knn.predict(X_test)\n",
    "\n",
    "print('Accuracy Score:\\n',accuracy_score(y_test, y_pred))\n",
    "print('Confusion Matrix:\\n',confusion_matrix(y_test, y_pred))\n",
    "print('Classification Report:\\n',classification_report(y_test,y_pred))"
   ]
  },
  {
   "cell_type": "code",
   "execution_count": 12,
   "id": "950f21d5",
   "metadata": {},
   "outputs": [
    {
     "name": "stdout",
     "output_type": "stream",
     "text": [
      "Cross Validation Scores are: [0.60893855 0.62359551 0.65730337 0.7247191  0.74157303]\n",
      "\n",
      "Average of Cross Validation Scores: 0.6712259117443977\n"
     ]
    }
   ],
   "source": [
    "# Use K-Fold Cross Validation to generalise the model accuracy.\n",
    "\n",
    "from sklearn.model_selection import cross_val_score,KFold\n",
    "\n",
    "kf=KFold(n_splits=5)\n",
    "score=cross_val_score(model_knn,X,y,cv=kf)\n",
    "\n",
    "print(\"Cross Validation Scores are: {}\\n\".format(score))\n",
    "\n",
    "print(\"Average of Cross Validation Scores: {}\".format(score.mean()))"
   ]
  },
  {
   "cell_type": "markdown",
   "id": "99557d0b",
   "metadata": {},
   "source": [
    "### SVM"
   ]
  },
  {
   "cell_type": "code",
   "execution_count": 13,
   "id": "45f8b41d",
   "metadata": {},
   "outputs": [
    {
     "name": "stdout",
     "output_type": "stream",
     "text": [
      "Accuracy Score:\n",
      " 0.6312849162011173\n",
      "Confusion Matrix:\n",
      " [[83 19]\n",
      " [47 30]]\n",
      "Classification Report:\n",
      "               precision    recall  f1-score   support\n",
      "\n",
      "           0       0.64      0.81      0.72       102\n",
      "           1       0.61      0.39      0.48        77\n",
      "\n",
      "    accuracy                           0.63       179\n",
      "   macro avg       0.63      0.60      0.60       179\n",
      "weighted avg       0.63      0.63      0.61       179\n",
      "\n"
     ]
    }
   ],
   "source": [
    "from sklearn.svm import SVC\n",
    "model_svc = SVC(kernel='linear', C=1, gamma='auto')\n",
    "model_svc.fit(X_train,y_train)\n",
    "\n",
    "y_pred = model_svc.predict(X_test)\n",
    "\n",
    "print('Accuracy Score:\\n',accuracy_score(y_test, y_pred))\n",
    "print('Confusion Matrix:\\n',confusion_matrix(y_test, y_pred))\n",
    "print('Classification Report:\\n',classification_report(y_test,y_pred))"
   ]
  },
  {
   "cell_type": "code",
   "execution_count": 14,
   "id": "b80ba921",
   "metadata": {},
   "outputs": [
    {
     "name": "stdout",
     "output_type": "stream",
     "text": [
      "Cross Validation Scores are: [0.61452514 0.65730337 0.66292135 0.7247191  0.74719101]\n",
      "\n",
      "Average of Cross Validation Scores: 0.6813319942250958\n"
     ]
    }
   ],
   "source": [
    "# Use K-Fold Cross Validation to generalise the model accuracy.\n",
    "\n",
    "from sklearn.model_selection import cross_val_score,KFold\n",
    "\n",
    "kf=KFold(n_splits=5)\n",
    "score=cross_val_score(model_svc,X,y,cv=kf)\n",
    "\n",
    "print(\"Cross Validation Scores are: {}\\n\".format(score))\n",
    "\n",
    "print(\"Average of Cross Validation Scores: {}\".format(score.mean()))"
   ]
  },
  {
   "cell_type": "markdown",
   "id": "d47a4900",
   "metadata": {},
   "source": [
    "### Decision Tree"
   ]
  },
  {
   "cell_type": "code",
   "execution_count": 15,
   "id": "0c0a88f8",
   "metadata": {},
   "outputs": [
    {
     "name": "stdout",
     "output_type": "stream",
     "text": [
      "Accuracy Score:\n",
      " 0.6201117318435754\n",
      "Confusion Matrix:\n",
      " [[83 19]\n",
      " [49 28]]\n",
      "Classification Report:\n",
      "               precision    recall  f1-score   support\n",
      "\n",
      "           0       0.63      0.81      0.71       102\n",
      "           1       0.60      0.36      0.45        77\n",
      "\n",
      "    accuracy                           0.62       179\n",
      "   macro avg       0.61      0.59      0.58       179\n",
      "weighted avg       0.61      0.62      0.60       179\n",
      "\n"
     ]
    }
   ],
   "source": [
    "from sklearn.tree import DecisionTreeClassifier\n",
    "clf = DecisionTreeClassifier()\n",
    "clf = clf.fit(X_train,y_train)\n",
    "\n",
    "y_pred = clf.predict(X_test)\n",
    "\n",
    "print('Accuracy Score:\\n',accuracy_score(y_test, y_pred))\n",
    "print('Confusion Matrix:\\n',confusion_matrix(y_test, y_pred))\n",
    "print('Classification Report:\\n',classification_report(y_test,y_pred))"
   ]
  },
  {
   "cell_type": "code",
   "execution_count": 16,
   "id": "1b933216",
   "metadata": {},
   "outputs": [
    {
     "name": "stdout",
     "output_type": "stream",
     "text": [
      "Cross Validation Scores are: [0.67597765 0.64044944 0.69662921 0.70224719 0.73033708]\n",
      "\n",
      "Average of Cross Validation Scores: 0.68912811499592\n"
     ]
    }
   ],
   "source": [
    "# Use K-Fold Cross Validation to generalise the model accuracy.\n",
    "\n",
    "from sklearn.model_selection import cross_val_score,KFold\n",
    "\n",
    "kf=KFold(n_splits=5)\n",
    "score=cross_val_score(clf,X,y,cv=kf)\n",
    "\n",
    "print(\"Cross Validation Scores are: {}\\n\".format(score))\n",
    "\n",
    "print(\"Average of Cross Validation Scores: {}\".format(score.mean()))"
   ]
  },
  {
   "cell_type": "markdown",
   "id": "1f121a75",
   "metadata": {},
   "source": [
    "### Random Forest"
   ]
  },
  {
   "cell_type": "code",
   "execution_count": 17,
   "id": "a517a39f",
   "metadata": {},
   "outputs": [
    {
     "name": "stdout",
     "output_type": "stream",
     "text": [
      "Accuracy Score:\n",
      " 0.8603351955307262\n",
      "Confusion Matrix:\n",
      " [[88 14]\n",
      " [11 66]]\n",
      "Classification Report:\n",
      "               precision    recall  f1-score   support\n",
      "\n",
      "           0       0.89      0.86      0.88       102\n",
      "           1       0.82      0.86      0.84        77\n",
      "\n",
      "    accuracy                           0.86       179\n",
      "   macro avg       0.86      0.86      0.86       179\n",
      "weighted avg       0.86      0.86      0.86       179\n",
      "\n"
     ]
    }
   ],
   "source": [
    "from sklearn.ensemble import RandomForestClassifier\n",
    "\n",
    "rf_clf = RandomForestClassifier(random_state=42, n_estimators = 100)\n",
    "rf_clf.fit(X_test,y_test)\n",
    "\n",
    "y_pred = rf_clf.predict(X_test)\n",
    "\n",
    "print('Accuracy Score:\\n',accuracy_score(y_test, y_pred))\n",
    "print('Confusion Matrix:\\n',confusion_matrix(y_test, y_pred))\n",
    "print('Classification Report:\\n',classification_report(y_test,y_pred))"
   ]
  },
  {
   "cell_type": "code",
   "execution_count": 18,
   "id": "b6c8c356",
   "metadata": {},
   "outputs": [
    {
     "name": "stdout",
     "output_type": "stream",
     "text": [
      "Cross Validation Scores are: [0.63687151 0.64044944 0.68539326 0.73595506 0.73033708]\n",
      "\n",
      "Average of Cross Validation Scores: 0.6858012679681125\n"
     ]
    }
   ],
   "source": [
    "# Use K-Fold Cross Validation to generalise the model accuracy.\n",
    "\n",
    "from sklearn.model_selection import cross_val_score,KFold\n",
    "\n",
    "rf_clf = RandomForestClassifier(random_state=42, n_estimators = 100)\n",
    "kf=KFold(n_splits=5)\n",
    "score=cross_val_score(rf_clf,X,y,cv=kf)\n",
    "\n",
    "print(\"Cross Validation Scores are: {}\\n\".format(score))\n",
    "\n",
    "print(\"Average of Cross Validation Scores: {}\".format(score.mean()))"
   ]
  },
  {
   "cell_type": "markdown",
   "id": "f500e69e",
   "metadata": {},
   "source": [
    "### Hyper Parameter Tunning using Grid Search CV"
   ]
  },
  {
   "cell_type": "code",
   "execution_count": 19,
   "id": "14b42bac",
   "metadata": {},
   "outputs": [],
   "source": [
    "#Use grid search to identify the best possible SVM model from the following search space:\n",
    "\n",
    "#'C': [0.1, 1, 10, 100, 1000]\n",
    "#'gamma': [1, 0.1, 0.01, 0.001, 0.0001]\n",
    "#'kernel': ['rbf']\n",
    "\n",
    "search_space ={'C': [0.1, 1, 10, 100, 1000],\n",
    "     'gamma': [1, 0.1, 0.01, 0.001, 0.0001],\n",
    "     'kernel': ['rbf']}\n",
    "\n",
    "from sklearn.model_selection import GridSearchCV\n",
    "from sklearn.svm import SVC\n",
    "\n",
    "grid_search = GridSearchCV(\n",
    "    SVC(), \n",
    "    search_space, \n",
    "    cv=5,\n",
    "    scoring='accuracy',n_jobs=-1)"
   ]
  },
  {
   "cell_type": "code",
   "execution_count": 20,
   "id": "fbcc7261",
   "metadata": {},
   "outputs": [],
   "source": [
    "grid_result = grid_search.fit(X_train,y_train)"
   ]
  },
  {
   "cell_type": "code",
   "execution_count": 21,
   "id": "20e2a97e",
   "metadata": {},
   "outputs": [
    {
     "name": "stdout",
     "output_type": "stream",
     "text": [
      "Best Params:  {'C': 10, 'gamma': 1, 'kernel': 'rbf'}\n",
      "Best Score:  0.7232739091894022\n"
     ]
    }
   ],
   "source": [
    "print('Best Params: ', grid_result.best_params_)\n",
    "print('Best Score: ', grid_result.best_score_)"
   ]
  },
  {
   "cell_type": "code",
   "execution_count": 22,
   "id": "ef59250e",
   "metadata": {},
   "outputs": [
    {
     "name": "stdout",
     "output_type": "stream",
     "text": [
      "Accuracy Score:\n",
      " 0.6871508379888268\n",
      "Confusion Matrix:\n",
      " [[91 11]\n",
      " [45 32]]\n",
      "Classification Report:\n",
      "               precision    recall  f1-score   support\n",
      "\n",
      "           0       0.67      0.89      0.76       102\n",
      "           1       0.74      0.42      0.53        77\n",
      "\n",
      "    accuracy                           0.69       179\n",
      "   macro avg       0.71      0.65      0.65       179\n",
      "weighted avg       0.70      0.69      0.67       179\n",
      "\n"
     ]
    }
   ],
   "source": [
    "# Rebuilding SVM model based on the best params obtained from grid search CV\n",
    "\n",
    "model_svc = SVC(kernel='rbf', C=1000, gamma=0.1)\n",
    "model_svc.fit(X_train,y_train)\n",
    "\n",
    "y_pred = model_svc.predict(X_test)\n",
    "\n",
    "print('Accuracy Score:\\n',accuracy_score(y_test, y_pred))\n",
    "print('Confusion Matrix:\\n',confusion_matrix(y_test, y_pred))\n",
    "print('Classification Report:\\n',classification_report(y_test,y_pred))"
   ]
  },
  {
   "cell_type": "code",
   "execution_count": 23,
   "id": "9326bd98",
   "metadata": {},
   "outputs": [
    {
     "name": "stdout",
     "output_type": "stream",
     "text": [
      "Cross Validation Scores are: [0.67039106 0.63483146 0.75280899 0.70224719 0.7752809 ]\n",
      "\n",
      "Average of Cross Validation Scores: 0.7071119201556713\n"
     ]
    }
   ],
   "source": [
    "kf=KFold(n_splits=5)\n",
    "score=cross_val_score(model_svc,X,y,cv=kf)\n",
    "\n",
    "print(\"Cross Validation Scores are: {}\\n\".format(score))\n",
    "\n",
    "print(\"Average of Cross Validation Scores: {}\".format(score.mean()))"
   ]
  },
  {
   "cell_type": "markdown",
   "id": "06fd9cc9",
   "metadata": {},
   "source": [
    "**Model Evaluation (based on K-Fold Cross Validation score):**\n",
    "\n",
    "|Model|K-Fold Cross Validation Score|\n",
    "|-|-|\n",
    "|Logistic Regression|0.6824|\n",
    "|KNN|0.6712|\n",
    "|SVM|0.6813|\n",
    "|Decision Tree|0.6880|\n",
    "|Random Forest|0.6858|\n",
    "\n",
    "* After performing **Grid Search for SVM**, we got accuracy score of **70.71%**\n"
   ]
  },
  {
   "cell_type": "markdown",
   "id": "77ff5022",
   "metadata": {},
   "source": [
    "##### Jibin K Joy, ML & AI, KKEM August 2022 Batch"
   ]
  },
  {
   "cell_type": "code",
   "execution_count": null,
   "id": "ee6ea72f",
   "metadata": {},
   "outputs": [],
   "source": []
  }
 ],
 "metadata": {
  "kernelspec": {
   "display_name": "Python 3",
   "language": "python",
   "name": "python3"
  },
  "language_info": {
   "codemirror_mode": {
    "name": "ipython",
    "version": 3
   },
   "file_extension": ".py",
   "mimetype": "text/x-python",
   "name": "python",
   "nbconvert_exporter": "python",
   "pygments_lexer": "ipython3",
   "version": "3.8.8"
  }
 },
 "nbformat": 4,
 "nbformat_minor": 5
}
