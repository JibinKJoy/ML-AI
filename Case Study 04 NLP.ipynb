{
 "cells": [
  {
   "cell_type": "markdown",
   "id": "ec6288a2",
   "metadata": {},
   "source": [
    "# Case Study 04 NLP\n",
    "\n",
    "# Machine Learning to predict public sentiment from text data"
   ]
  },
  {
   "cell_type": "markdown",
   "id": "576a4e01",
   "metadata": {},
   "source": [
    "Look into twitter text data to predict if the given text has positive or negative sentiment towards a particular brand. The dataset includes twitter text related to Apple and Google products with user sentiment ranked between ‘positive’, ‘negative’, ‘neutral’ and ‘no_idea’,sentiments. Create a simpleRNN or LSTM based classifiers to classify tweets into the four classes. You can avoid ‘emotion_in_tweet_is_directed_at’ column."
   ]
  },
  {
   "cell_type": "code",
   "execution_count": 1,
   "id": "07fcf4ed",
   "metadata": {},
   "outputs": [],
   "source": [
    "import numpy as np\n",
    "import pandas as pd"
   ]
  },
  {
   "cell_type": "code",
   "execution_count": 21,
   "id": "9e806d5d",
   "metadata": {},
   "outputs": [
    {
     "data": {
      "text/html": [
       "<div>\n",
       "<style scoped>\n",
       "    .dataframe tbody tr th:only-of-type {\n",
       "        vertical-align: middle;\n",
       "    }\n",
       "\n",
       "    .dataframe tbody tr th {\n",
       "        vertical-align: top;\n",
       "    }\n",
       "\n",
       "    .dataframe thead th {\n",
       "        text-align: right;\n",
       "    }\n",
       "</style>\n",
       "<table border=\"1\" class=\"dataframe\">\n",
       "  <thead>\n",
       "    <tr style=\"text-align: right;\">\n",
       "      <th></th>\n",
       "      <th>tweet_text</th>\n",
       "      <th>emotion_in_tweet_is_directed_at</th>\n",
       "      <th>is_there_an_emotion_directed_at_a_brand_or_product</th>\n",
       "    </tr>\n",
       "  </thead>\n",
       "  <tbody>\n",
       "    <tr>\n",
       "      <th>0</th>\n",
       "      <td>.@wesley83 I have a 3G iPhone. After 3 hrs tweeting at #RISE_Austin, it was dead!  I need to upgrade. Plugin stations at #SXSW.</td>\n",
       "      <td>iPhone</td>\n",
       "      <td>Negative emotion</td>\n",
       "    </tr>\n",
       "    <tr>\n",
       "      <th>1</th>\n",
       "      <td>@jessedee Know about @fludapp ? Awesome iPad/iPhone app that you'll likely appreciate for its design. Also, they're giving free Ts at #SXSW</td>\n",
       "      <td>iPad or iPhone App</td>\n",
       "      <td>Positive emotion</td>\n",
       "    </tr>\n",
       "    <tr>\n",
       "      <th>2</th>\n",
       "      <td>@swonderlin Can not wait for #iPad 2 also. They should sale them down at #SXSW.</td>\n",
       "      <td>iPad</td>\n",
       "      <td>Positive emotion</td>\n",
       "    </tr>\n",
       "    <tr>\n",
       "      <th>3</th>\n",
       "      <td>@sxsw I hope this year's festival isn't as crashy as this year's iPhone app. #sxsw</td>\n",
       "      <td>iPad or iPhone App</td>\n",
       "      <td>Negative emotion</td>\n",
       "    </tr>\n",
       "    <tr>\n",
       "      <th>4</th>\n",
       "      <td>@sxtxstate great stuff on Fri #SXSW: Marissa Mayer (Google), Tim O'Reilly (tech books/conferences) &amp;amp; Matt Mullenweg (Wordpress)</td>\n",
       "      <td>Google</td>\n",
       "      <td>Positive emotion</td>\n",
       "    </tr>\n",
       "  </tbody>\n",
       "</table>\n",
       "</div>"
      ],
      "text/plain": [
       "                                                                                                                                    tweet_text  \\\n",
       "0              .@wesley83 I have a 3G iPhone. After 3 hrs tweeting at #RISE_Austin, it was dead!  I need to upgrade. Plugin stations at #SXSW.   \n",
       "1  @jessedee Know about @fludapp ? Awesome iPad/iPhone app that you'll likely appreciate for its design. Also, they're giving free Ts at #SXSW   \n",
       "2                                                              @swonderlin Can not wait for #iPad 2 also. They should sale them down at #SXSW.   \n",
       "3                                                           @sxsw I hope this year's festival isn't as crashy as this year's iPhone app. #sxsw   \n",
       "4          @sxtxstate great stuff on Fri #SXSW: Marissa Mayer (Google), Tim O'Reilly (tech books/conferences) &amp; Matt Mullenweg (Wordpress)   \n",
       "\n",
       "  emotion_in_tweet_is_directed_at  \\\n",
       "0                          iPhone   \n",
       "1              iPad or iPhone App   \n",
       "2                            iPad   \n",
       "3              iPad or iPhone App   \n",
       "4                          Google   \n",
       "\n",
       "  is_there_an_emotion_directed_at_a_brand_or_product  \n",
       "0                                   Negative emotion  \n",
       "1                                   Positive emotion  \n",
       "2                                   Positive emotion  \n",
       "3                                   Negative emotion  \n",
       "4                                   Positive emotion  "
      ]
     },
     "execution_count": 21,
     "metadata": {},
     "output_type": "execute_result"
    }
   ],
   "source": [
    "data = pd.read_csv('judge-1377884607_tweet_product_company.csv')\n",
    "data.head()"
   ]
  },
  {
   "cell_type": "code",
   "execution_count": 22,
   "id": "2f7a4163",
   "metadata": {},
   "outputs": [
    {
     "data": {
      "text/plain": [
       "4"
      ]
     },
     "execution_count": 22,
     "metadata": {},
     "output_type": "execute_result"
    }
   ],
   "source": [
    "data['is_there_an_emotion_directed_at_a_brand_or_product'].nunique()"
   ]
  },
  {
   "cell_type": "code",
   "execution_count": 23,
   "id": "a9876fea",
   "metadata": {},
   "outputs": [],
   "source": [
    "messages = data[['tweet_text','is_there_an_emotion_directed_at_a_brand_or_product']]\n",
    "messages.columns = [\"Text\",\"Label\"]"
   ]
  },
  {
   "cell_type": "code",
   "execution_count": 24,
   "id": "b354629a",
   "metadata": {},
   "outputs": [
    {
     "data": {
      "text/html": [
       "<div>\n",
       "<style scoped>\n",
       "    .dataframe tbody tr th:only-of-type {\n",
       "        vertical-align: middle;\n",
       "    }\n",
       "\n",
       "    .dataframe tbody tr th {\n",
       "        vertical-align: top;\n",
       "    }\n",
       "\n",
       "    .dataframe thead th {\n",
       "        text-align: right;\n",
       "    }\n",
       "</style>\n",
       "<table border=\"1\" class=\"dataframe\">\n",
       "  <thead>\n",
       "    <tr style=\"text-align: right;\">\n",
       "      <th></th>\n",
       "      <th>Text</th>\n",
       "      <th>Label</th>\n",
       "    </tr>\n",
       "  </thead>\n",
       "  <tbody>\n",
       "    <tr>\n",
       "      <th>0</th>\n",
       "      <td>.@wesley83 I have a 3G iPhone. After 3 hrs tweeting at #RISE_Austin, it was dead!  I need to upgrade. Plugin stations at #SXSW.</td>\n",
       "      <td>Negative emotion</td>\n",
       "    </tr>\n",
       "    <tr>\n",
       "      <th>1</th>\n",
       "      <td>@jessedee Know about @fludapp ? Awesome iPad/iPhone app that you'll likely appreciate for its design. Also, they're giving free Ts at #SXSW</td>\n",
       "      <td>Positive emotion</td>\n",
       "    </tr>\n",
       "    <tr>\n",
       "      <th>2</th>\n",
       "      <td>@swonderlin Can not wait for #iPad 2 also. They should sale them down at #SXSW.</td>\n",
       "      <td>Positive emotion</td>\n",
       "    </tr>\n",
       "    <tr>\n",
       "      <th>3</th>\n",
       "      <td>@sxsw I hope this year's festival isn't as crashy as this year's iPhone app. #sxsw</td>\n",
       "      <td>Negative emotion</td>\n",
       "    </tr>\n",
       "    <tr>\n",
       "      <th>4</th>\n",
       "      <td>@sxtxstate great stuff on Fri #SXSW: Marissa Mayer (Google), Tim O'Reilly (tech books/conferences) &amp;amp; Matt Mullenweg (Wordpress)</td>\n",
       "      <td>Positive emotion</td>\n",
       "    </tr>\n",
       "  </tbody>\n",
       "</table>\n",
       "</div>"
      ],
      "text/plain": [
       "                                                                                                                                          Text  \\\n",
       "0              .@wesley83 I have a 3G iPhone. After 3 hrs tweeting at #RISE_Austin, it was dead!  I need to upgrade. Plugin stations at #SXSW.   \n",
       "1  @jessedee Know about @fludapp ? Awesome iPad/iPhone app that you'll likely appreciate for its design. Also, they're giving free Ts at #SXSW   \n",
       "2                                                              @swonderlin Can not wait for #iPad 2 also. They should sale them down at #SXSW.   \n",
       "3                                                           @sxsw I hope this year's festival isn't as crashy as this year's iPhone app. #sxsw   \n",
       "4          @sxtxstate great stuff on Fri #SXSW: Marissa Mayer (Google), Tim O'Reilly (tech books/conferences) &amp; Matt Mullenweg (Wordpress)   \n",
       "\n",
       "              Label  \n",
       "0  Negative emotion  \n",
       "1  Positive emotion  \n",
       "2  Positive emotion  \n",
       "3  Negative emotion  \n",
       "4  Positive emotion  "
      ]
     },
     "execution_count": 24,
     "metadata": {},
     "output_type": "execute_result"
    }
   ],
   "source": [
    "pd.set_option('display.max_colwidth', None)\n",
    "messages.head()"
   ]
  },
  {
   "cell_type": "code",
   "execution_count": 25,
   "id": "a32da3de",
   "metadata": {},
   "outputs": [
    {
     "data": {
      "text/plain": [
       "No emotion toward brand or product    5389\n",
       "Positive emotion                      2978\n",
       "Negative emotion                       570\n",
       "I can't tell                           156\n",
       "Name: Label, dtype: int64"
      ]
     },
     "execution_count": 25,
     "metadata": {},
     "output_type": "execute_result"
    }
   ],
   "source": [
    "messages['Label'].value_counts()"
   ]
  },
  {
   "cell_type": "code",
   "execution_count": 26,
   "id": "6a146e88",
   "metadata": {},
   "outputs": [
    {
     "name": "stderr",
     "output_type": "stream",
     "text": [
      "<ipython-input-26-96f86a009bd5>:1: SettingWithCopyWarning: \n",
      "A value is trying to be set on a copy of a slice from a DataFrame.\n",
      "Try using .loc[row_indexer,col_indexer] = value instead\n",
      "\n",
      "See the caveats in the documentation: https://pandas.pydata.org/pandas-docs/stable/user_guide/indexing.html#returning-a-view-versus-a-copy\n",
      "  messages['Label'] = messages['Label'].map({'No emotion toward brand or product':2,'Positive emotion':3,'Negative emotion':1,\"I can't tell\":0})\n"
     ]
    }
   ],
   "source": [
    "messages['Label'] = messages['Label'].map({'No emotion toward brand or product':2,'Positive emotion':3,'Negative emotion':1,\"I can't tell\":0})"
   ]
  },
  {
   "cell_type": "code",
   "execution_count": 27,
   "id": "aa2d2fc3",
   "metadata": {},
   "outputs": [
    {
     "data": {
      "text/html": [
       "<div>\n",
       "<style scoped>\n",
       "    .dataframe tbody tr th:only-of-type {\n",
       "        vertical-align: middle;\n",
       "    }\n",
       "\n",
       "    .dataframe tbody tr th {\n",
       "        vertical-align: top;\n",
       "    }\n",
       "\n",
       "    .dataframe thead th {\n",
       "        text-align: right;\n",
       "    }\n",
       "</style>\n",
       "<table border=\"1\" class=\"dataframe\">\n",
       "  <thead>\n",
       "    <tr style=\"text-align: right;\">\n",
       "      <th></th>\n",
       "      <th>Text</th>\n",
       "      <th>Label</th>\n",
       "    </tr>\n",
       "  </thead>\n",
       "  <tbody>\n",
       "    <tr>\n",
       "      <th>0</th>\n",
       "      <td>.@wesley83 I have a 3G iPhone. After 3 hrs tweeting at #RISE_Austin, it was dead!  I need to upgrade. Plugin stations at #SXSW.</td>\n",
       "      <td>1</td>\n",
       "    </tr>\n",
       "    <tr>\n",
       "      <th>1</th>\n",
       "      <td>@jessedee Know about @fludapp ? Awesome iPad/iPhone app that you'll likely appreciate for its design. Also, they're giving free Ts at #SXSW</td>\n",
       "      <td>3</td>\n",
       "    </tr>\n",
       "    <tr>\n",
       "      <th>2</th>\n",
       "      <td>@swonderlin Can not wait for #iPad 2 also. They should sale them down at #SXSW.</td>\n",
       "      <td>3</td>\n",
       "    </tr>\n",
       "    <tr>\n",
       "      <th>3</th>\n",
       "      <td>@sxsw I hope this year's festival isn't as crashy as this year's iPhone app. #sxsw</td>\n",
       "      <td>1</td>\n",
       "    </tr>\n",
       "    <tr>\n",
       "      <th>4</th>\n",
       "      <td>@sxtxstate great stuff on Fri #SXSW: Marissa Mayer (Google), Tim O'Reilly (tech books/conferences) &amp;amp; Matt Mullenweg (Wordpress)</td>\n",
       "      <td>3</td>\n",
       "    </tr>\n",
       "  </tbody>\n",
       "</table>\n",
       "</div>"
      ],
      "text/plain": [
       "                                                                                                                                          Text  \\\n",
       "0              .@wesley83 I have a 3G iPhone. After 3 hrs tweeting at #RISE_Austin, it was dead!  I need to upgrade. Plugin stations at #SXSW.   \n",
       "1  @jessedee Know about @fludapp ? Awesome iPad/iPhone app that you'll likely appreciate for its design. Also, they're giving free Ts at #SXSW   \n",
       "2                                                              @swonderlin Can not wait for #iPad 2 also. They should sale them down at #SXSW.   \n",
       "3                                                           @sxsw I hope this year's festival isn't as crashy as this year's iPhone app. #sxsw   \n",
       "4          @sxtxstate great stuff on Fri #SXSW: Marissa Mayer (Google), Tim O'Reilly (tech books/conferences) &amp; Matt Mullenweg (Wordpress)   \n",
       "\n",
       "   Label  \n",
       "0      1  \n",
       "1      3  \n",
       "2      3  \n",
       "3      1  \n",
       "4      3  "
      ]
     },
     "execution_count": 27,
     "metadata": {},
     "output_type": "execute_result"
    }
   ],
   "source": [
    "messages.head()"
   ]
  },
  {
   "cell_type": "code",
   "execution_count": 28,
   "id": "2a4d25eb",
   "metadata": {},
   "outputs": [
    {
     "data": {
      "text/plain": [
       "2    5389\n",
       "3    2978\n",
       "1     570\n",
       "0     156\n",
       "Name: Label, dtype: int64"
      ]
     },
     "execution_count": 28,
     "metadata": {},
     "output_type": "execute_result"
    }
   ],
   "source": [
    "messages['Label'].value_counts()"
   ]
  },
  {
   "cell_type": "code",
   "execution_count": 31,
   "id": "ce5ed20d",
   "metadata": {},
   "outputs": [
    {
     "name": "stdout",
     "output_type": "stream",
     "text": [
      "<class 'pandas.core.frame.DataFrame'>\n",
      "RangeIndex: 9093 entries, 0 to 9092\n",
      "Data columns (total 2 columns):\n",
      " #   Column  Non-Null Count  Dtype \n",
      "---  ------  --------------  ----- \n",
      " 0   Text    9092 non-null   object\n",
      " 1   Label   9093 non-null   int64 \n",
      "dtypes: int64(1), object(1)\n",
      "memory usage: 142.2+ KB\n"
     ]
    }
   ],
   "source": [
    "messages.info()"
   ]
  },
  {
   "cell_type": "code",
   "execution_count": 32,
   "id": "4a6340b4",
   "metadata": {},
   "outputs": [],
   "source": [
    "messages = messages.dropna()"
   ]
  },
  {
   "cell_type": "code",
   "execution_count": 33,
   "id": "ba92d616",
   "metadata": {},
   "outputs": [
    {
     "name": "stdout",
     "output_type": "stream",
     "text": [
      "<class 'pandas.core.frame.DataFrame'>\n",
      "Int64Index: 9092 entries, 0 to 9092\n",
      "Data columns (total 2 columns):\n",
      " #   Column  Non-Null Count  Dtype \n",
      "---  ------  --------------  ----- \n",
      " 0   Text    9092 non-null   object\n",
      " 1   Label   9092 non-null   int64 \n",
      "dtypes: int64(1), object(1)\n",
      "memory usage: 213.1+ KB\n"
     ]
    }
   ],
   "source": [
    "messages.info()"
   ]
  },
  {
   "cell_type": "code",
   "execution_count": 34,
   "id": "8ad5da6f",
   "metadata": {},
   "outputs": [],
   "source": [
    "from keras.preprocessing import text\n",
    "tokenizer = text.Tokenizer() \n",
    "tokenizer.fit_on_texts(list(messages['Text']))\n",
    "tokenized_texts = tokenizer.texts_to_sequences(messages['Text'])"
   ]
  },
  {
   "cell_type": "code",
   "execution_count": 36,
   "id": "f39b6f88",
   "metadata": {},
   "outputs": [
    {
     "data": {
      "text/plain": [
       "[5861,\n",
       " 23,\n",
       " 51,\n",
       " 11,\n",
       " 606,\n",
       " 18,\n",
       " 258,\n",
       " 112,\n",
       " 2578,\n",
       " 633,\n",
       " 6,\n",
       " 1348,\n",
       " 25,\n",
       " 32,\n",
       " 87,\n",
       " 889,\n",
       " 23,\n",
       " 105,\n",
       " 5,\n",
       " 1108,\n",
       " 2579,\n",
       " 3948,\n",
       " 6,\n",
       " 1]"
      ]
     },
     "execution_count": 36,
     "metadata": {},
     "output_type": "execute_result"
    }
   ],
   "source": [
    "tokenized_texts[0]"
   ]
  },
  {
   "cell_type": "code",
   "execution_count": 35,
   "id": "47bf909e",
   "metadata": {},
   "outputs": [
    {
     "data": {
      "text/plain": [
       "10115"
      ]
     },
     "execution_count": 35,
     "metadata": {},
     "output_type": "execute_result"
    }
   ],
   "source": [
    "len(tokenizer.word_index)"
   ]
  },
  {
   "cell_type": "code",
   "execution_count": 37,
   "id": "8e61319e",
   "metadata": {},
   "outputs": [],
   "source": [
    "from keras.utils import pad_sequences\n",
    "X = pad_sequences(tokenized_texts, maxlen=100)"
   ]
  },
  {
   "cell_type": "code",
   "execution_count": 39,
   "id": "b31fc20d",
   "metadata": {},
   "outputs": [],
   "source": [
    "from sklearn.model_selection import train_test_split\n",
    "X_train, X_test, y_train, y_test = train_test_split(X, messages['Label'].values, test_size=0.2)"
   ]
  },
  {
   "cell_type": "code",
   "execution_count": 40,
   "id": "849c9343",
   "metadata": {},
   "outputs": [],
   "source": [
    "from keras.models import Sequential\n",
    "from keras.layers import Dense, LSTM, Embedding,SimpleRNN,Dropout"
   ]
  },
  {
   "cell_type": "code",
   "execution_count": 41,
   "id": "e134aa30",
   "metadata": {},
   "outputs": [],
   "source": [
    "model = Sequential()\n",
    "\n",
    "model.add(Embedding(input_dim = len(tokenizer.word_index)+1, output_dim = 128,input_length=100))\n",
    "model.add(SimpleRNN(10))\n",
    "model.add(Dropout(0.5))\n",
    "model.add(Dense(50, activation='relu'))\n",
    "model.add(Dropout(0.5))\n",
    "model.add(Dense(4, activation='softmax'))  "
   ]
  },
  {
   "cell_type": "code",
   "execution_count": 42,
   "id": "bd8d1ce8",
   "metadata": {},
   "outputs": [],
   "source": [
    "model.compile(loss='sparse_categorical_crossentropy', optimizer='adam', metrics=['accuracy'])"
   ]
  },
  {
   "cell_type": "code",
   "execution_count": 43,
   "id": "d18a96a8",
   "metadata": {},
   "outputs": [
    {
     "name": "stdout",
     "output_type": "stream",
     "text": [
      "Model: \"sequential\"\n",
      "_________________________________________________________________\n",
      " Layer (type)                Output Shape              Param #   \n",
      "=================================================================\n",
      " embedding (Embedding)       (None, 100, 128)          1294848   \n",
      "                                                                 \n",
      " simple_rnn (SimpleRNN)      (None, 10)                1390      \n",
      "                                                                 \n",
      " dropout (Dropout)           (None, 10)                0         \n",
      "                                                                 \n",
      " dense (Dense)               (None, 50)                550       \n",
      "                                                                 \n",
      " dropout_1 (Dropout)         (None, 50)                0         \n",
      "                                                                 \n",
      " dense_1 (Dense)             (None, 4)                 204       \n",
      "                                                                 \n",
      "=================================================================\n",
      "Total params: 1,296,992\n",
      "Trainable params: 1,296,992\n",
      "Non-trainable params: 0\n",
      "_________________________________________________________________\n"
     ]
    }
   ],
   "source": [
    "model.summary()"
   ]
  },
  {
   "cell_type": "code",
   "execution_count": 46,
   "id": "0c4bdbed",
   "metadata": {},
   "outputs": [
    {
     "name": "stdout",
     "output_type": "stream",
     "text": [
      "Epoch 1/25\n",
      "205/205 [==============================] - 16s 78ms/step - loss: 0.1818 - accuracy: 0.9341 - val_loss: 2.1228 - val_accuracy: 0.5893\n",
      "Epoch 2/25\n",
      "205/205 [==============================] - 19s 91ms/step - loss: 0.1936 - accuracy: 0.9283 - val_loss: 2.0648 - val_accuracy: 0.5934\n",
      "Epoch 3/25\n",
      "205/205 [==============================] - 19s 91ms/step - loss: 0.1862 - accuracy: 0.9300 - val_loss: 2.1298 - val_accuracy: 0.6071\n",
      "Epoch 4/25\n",
      "205/205 [==============================] - 20s 95ms/step - loss: 0.1852 - accuracy: 0.9345 - val_loss: 2.0666 - val_accuracy: 0.6030\n",
      "Epoch 5/25\n",
      "205/205 [==============================] - 19s 93ms/step - loss: 0.1792 - accuracy: 0.9367 - val_loss: 2.1687 - val_accuracy: 0.5934\n",
      "Epoch 6/25\n",
      "205/205 [==============================] - 16s 76ms/step - loss: 0.1686 - accuracy: 0.9381 - val_loss: 2.0734 - val_accuracy: 0.6126\n",
      "Epoch 7/25\n",
      "205/205 [==============================] - 18s 90ms/step - loss: 0.1784 - accuracy: 0.9375 - val_loss: 2.1959 - val_accuracy: 0.5879\n",
      "Epoch 8/25\n",
      "205/205 [==============================] - 20s 97ms/step - loss: 0.1727 - accuracy: 0.9393 - val_loss: 2.1798 - val_accuracy: 0.5934\n",
      "Epoch 9/25\n",
      "205/205 [==============================] - 16s 78ms/step - loss: 0.1680 - accuracy: 0.9401 - val_loss: 2.1495 - val_accuracy: 0.6016\n",
      "Epoch 10/25\n",
      "205/205 [==============================] - 16s 78ms/step - loss: 0.1906 - accuracy: 0.9358 - val_loss: 2.1354 - val_accuracy: 0.5907\n",
      "Epoch 11/25\n",
      "205/205 [==============================] - 15s 72ms/step - loss: 0.1613 - accuracy: 0.9430 - val_loss: 2.2161 - val_accuracy: 0.5962\n",
      "Epoch 12/25\n",
      "205/205 [==============================] - 18s 86ms/step - loss: 0.1721 - accuracy: 0.9378 - val_loss: 2.2996 - val_accuracy: 0.5948\n",
      "Epoch 13/25\n",
      "205/205 [==============================] - 18s 87ms/step - loss: 0.1483 - accuracy: 0.9470 - val_loss: 2.2957 - val_accuracy: 0.6209\n",
      "Epoch 14/25\n",
      "205/205 [==============================] - 18s 85ms/step - loss: 0.1469 - accuracy: 0.9455 - val_loss: 2.2532 - val_accuracy: 0.6236\n",
      "Epoch 15/25\n",
      "205/205 [==============================] - 17s 83ms/step - loss: 0.1605 - accuracy: 0.9438 - val_loss: 2.3026 - val_accuracy: 0.6209\n",
      "Epoch 16/25\n",
      "205/205 [==============================] - 17s 85ms/step - loss: 0.1409 - accuracy: 0.9479 - val_loss: 2.4332 - val_accuracy: 0.6126\n",
      "Epoch 17/25\n",
      "205/205 [==============================] - 18s 87ms/step - loss: 0.1450 - accuracy: 0.9491 - val_loss: 2.4036 - val_accuracy: 0.5907\n",
      "Epoch 18/25\n",
      "205/205 [==============================] - 18s 90ms/step - loss: 0.1382 - accuracy: 0.9519 - val_loss: 2.4769 - val_accuracy: 0.5865\n",
      "Epoch 19/25\n",
      "205/205 [==============================] - 18s 88ms/step - loss: 0.1541 - accuracy: 0.9465 - val_loss: 2.4516 - val_accuracy: 0.5989\n",
      "Epoch 20/25\n",
      "205/205 [==============================] - 21s 101ms/step - loss: 0.1766 - accuracy: 0.9422 - val_loss: 2.3081 - val_accuracy: 0.5824\n",
      "Epoch 21/25\n",
      "205/205 [==============================] - 25s 120ms/step - loss: 0.1309 - accuracy: 0.9552 - val_loss: 2.3700 - val_accuracy: 0.5907\n",
      "Epoch 22/25\n",
      "205/205 [==============================] - 22s 106ms/step - loss: 0.1372 - accuracy: 0.9517 - val_loss: 2.4151 - val_accuracy: 0.6016\n",
      "Epoch 23/25\n",
      "205/205 [==============================] - 20s 96ms/step - loss: 0.1630 - accuracy: 0.9458 - val_loss: 2.2034 - val_accuracy: 0.5962\n",
      "Epoch 24/25\n",
      "205/205 [==============================] - 19s 92ms/step - loss: 0.1345 - accuracy: 0.9539 - val_loss: 2.5243 - val_accuracy: 0.5989\n",
      "Epoch 25/25\n",
      "205/205 [==============================] - 19s 94ms/step - loss: 0.1339 - accuracy: 0.9555 - val_loss: 2.4878 - val_accuracy: 0.5989\n"
     ]
    }
   ],
   "source": [
    "history = model.fit(X_train, y_train, epochs=25,validation_split=0.1)"
   ]
  },
  {
   "cell_type": "code",
   "execution_count": 48,
   "id": "418c144a",
   "metadata": {},
   "outputs": [
    {
     "name": "stdout",
     "output_type": "stream",
     "text": [
      "57/57 [==============================] - 1s 10ms/step\n"
     ]
    }
   ],
   "source": [
    "y_pred = model.predict(X_test)"
   ]
  },
  {
   "cell_type": "code",
   "execution_count": 50,
   "id": "b4fd4059",
   "metadata": {},
   "outputs": [
    {
     "data": {
      "image/png": "[encoded data removed]",
      "text/plain": [
       "<Figure size 432x288 with 1 Axes>"
      ]
     },
     "metadata": {
      "needs_background": "light"
     },
     "output_type": "display_data"
    }
   ],
   "source": [
    "import matplotlib.pyplot as plt\n",
    "\n",
    "plt.plot(history.history['accuracy'])\n",
    "plt.title('model accuracy plot')\n",
    "plt.ylabel('accuracy')\n",
    "plt.xlabel('epoch')\n",
    "plt.show()\n",
    "\n",
    "# plotting accuracy plot"
   ]
  },
  {
   "cell_type": "code",
   "execution_count": 51,
   "id": "f3289cc8",
   "metadata": {},
   "outputs": [
    {
     "data": {
      "image/png": "[encoded data removed]",
      "text/plain": [
       "<Figure size 432x288 with 1 Axes>"
      ]
     },
     "metadata": {
      "needs_background": "light"
     },
     "output_type": "display_data"
    }
   ],
   "source": [
    "plt.plot(history.history['loss'])\n",
    "plt.title('model loss plot')\n",
    "plt.ylabel('loss')\n",
    "plt.xlabel('epoch')\n",
    "plt.show()\n",
    "\n",
    "#plotting loss plot"
   ]
  },
  {
   "cell_type": "markdown",
   "id": "c0983a6e",
   "metadata": {},
   "source": [
    "##### Jibin K Joy, KKEM ML & AI August Batch 2022"
   ]
  },
  {
   "cell_type": "code",
   "execution_count": null,
   "id": "0c6c0fd9",
   "metadata": {},
   "outputs": [],
   "source": []
  }
 ],
 "metadata": {
  "kernelspec": {
   "display_name": "Python 3",
   "language": "python",
   "name": "python3"
  },
  "language_info": {
   "codemirror_mode": {
    "name": "ipython",
    "version": 3
   },
   "file_extension": ".py",
   "mimetype": "text/x-python",
   "name": "python",
   "nbconvert_exporter": "python",
   "pygments_lexer": "ipython3",
   "version": "3.8.8"
  }
 },
 "nbformat": 4,
 "nbformat_minor": 5
}
