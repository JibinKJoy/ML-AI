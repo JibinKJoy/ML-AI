{
 "cells": [
  {
   "cell_type": "markdown",
   "id": "722e7d5d",
   "metadata": {},
   "source": [
    "# Case Study 0 3\n",
    "# Artificial Neural Network"
   ]
  },
  {
   "cell_type": "markdown",
   "id": "4fc06949",
   "metadata": {},
   "source": [
    "Bob has started his own mobile company. He wants to give tough fight to big companies like Apple, Samsung etc.\n",
    "He does not know how to estimate price of mobiles his company creates. In this competitive mobile phone market, you cannot simply assume things. \n",
    "To solve this problem, he collects sales data of mobile phones of various companies.\n",
    "\n",
    "Bob wants to find out some relation between features of a mobile phone (eg:- RAM, Internal Memory etc) and its selling price. But he is not so good at Machine Learning. \n",
    "\n",
    "Create an artificial neural network-based classifier to help Bob.\n",
    "Data and class labels are available in mobile_price_classification.csv file. Use **price_range column as label** and remaining columns as data."
   ]
  },
  {
   "cell_type": "code",
   "execution_count": 1,
   "id": "4e52f9e5",
   "metadata": {},
   "outputs": [],
   "source": [
    "# Importing libraries\n",
    "\n",
    "import pandas as pd\n",
    "import numpy as np"
   ]
  },
  {
   "cell_type": "markdown",
   "id": "568cd9a9",
   "metadata": {},
   "source": [
    "### Data loading"
   ]
  },
  {
   "cell_type": "code",
   "execution_count": 2,
   "id": "0ee43538",
   "metadata": {
    "scrolled": true
   },
   "outputs": [
    {
     "data": {
      "text/html": [
       "<div>\n",
       "<style scoped>\n",
       "    .dataframe tbody tr th:only-of-type {\n",
       "        vertical-align: middle;\n",
       "    }\n",
       "\n",
       "    .dataframe tbody tr th {\n",
       "        vertical-align: top;\n",
       "    }\n",
       "\n",
       "    .dataframe thead th {\n",
       "        text-align: right;\n",
       "    }\n",
       "</style>\n",
       "<table border=\"1\" class=\"dataframe\">\n",
       "  <thead>\n",
       "    <tr style=\"text-align: right;\">\n",
       "      <th></th>\n",
       "      <th>battery_power</th>\n",
       "      <th>bluetooth</th>\n",
       "      <th>clock_speed</th>\n",
       "      <th>dual_sim</th>\n",
       "      <th>front_cam</th>\n",
       "      <th>4G</th>\n",
       "      <th>int_memory</th>\n",
       "      <th>m_dep</th>\n",
       "      <th>mobile_wt</th>\n",
       "      <th>n_cores</th>\n",
       "      <th>...</th>\n",
       "      <th>px_height</th>\n",
       "      <th>px_width</th>\n",
       "      <th>ram</th>\n",
       "      <th>sc_h</th>\n",
       "      <th>sc_w</th>\n",
       "      <th>talk_time</th>\n",
       "      <th>three_g</th>\n",
       "      <th>touch_screen</th>\n",
       "      <th>wifi</th>\n",
       "      <th>price_range</th>\n",
       "    </tr>\n",
       "  </thead>\n",
       "  <tbody>\n",
       "    <tr>\n",
       "      <th>0</th>\n",
       "      <td>842</td>\n",
       "      <td>0</td>\n",
       "      <td>2.2</td>\n",
       "      <td>0</td>\n",
       "      <td>1</td>\n",
       "      <td>0</td>\n",
       "      <td>7</td>\n",
       "      <td>0.6</td>\n",
       "      <td>188</td>\n",
       "      <td>2</td>\n",
       "      <td>...</td>\n",
       "      <td>20</td>\n",
       "      <td>756</td>\n",
       "      <td>2549</td>\n",
       "      <td>9</td>\n",
       "      <td>7</td>\n",
       "      <td>19</td>\n",
       "      <td>0</td>\n",
       "      <td>0</td>\n",
       "      <td>1</td>\n",
       "      <td>1</td>\n",
       "    </tr>\n",
       "    <tr>\n",
       "      <th>1</th>\n",
       "      <td>1021</td>\n",
       "      <td>1</td>\n",
       "      <td>0.5</td>\n",
       "      <td>1</td>\n",
       "      <td>0</td>\n",
       "      <td>1</td>\n",
       "      <td>53</td>\n",
       "      <td>0.7</td>\n",
       "      <td>136</td>\n",
       "      <td>3</td>\n",
       "      <td>...</td>\n",
       "      <td>905</td>\n",
       "      <td>1988</td>\n",
       "      <td>2631</td>\n",
       "      <td>17</td>\n",
       "      <td>3</td>\n",
       "      <td>7</td>\n",
       "      <td>1</td>\n",
       "      <td>1</td>\n",
       "      <td>0</td>\n",
       "      <td>2</td>\n",
       "    </tr>\n",
       "    <tr>\n",
       "      <th>2</th>\n",
       "      <td>563</td>\n",
       "      <td>1</td>\n",
       "      <td>0.5</td>\n",
       "      <td>1</td>\n",
       "      <td>2</td>\n",
       "      <td>1</td>\n",
       "      <td>41</td>\n",
       "      <td>0.9</td>\n",
       "      <td>145</td>\n",
       "      <td>5</td>\n",
       "      <td>...</td>\n",
       "      <td>1263</td>\n",
       "      <td>1716</td>\n",
       "      <td>2603</td>\n",
       "      <td>11</td>\n",
       "      <td>2</td>\n",
       "      <td>9</td>\n",
       "      <td>1</td>\n",
       "      <td>1</td>\n",
       "      <td>0</td>\n",
       "      <td>2</td>\n",
       "    </tr>\n",
       "    <tr>\n",
       "      <th>3</th>\n",
       "      <td>615</td>\n",
       "      <td>1</td>\n",
       "      <td>2.5</td>\n",
       "      <td>0</td>\n",
       "      <td>0</td>\n",
       "      <td>0</td>\n",
       "      <td>10</td>\n",
       "      <td>0.8</td>\n",
       "      <td>131</td>\n",
       "      <td>6</td>\n",
       "      <td>...</td>\n",
       "      <td>1216</td>\n",
       "      <td>1786</td>\n",
       "      <td>2769</td>\n",
       "      <td>16</td>\n",
       "      <td>8</td>\n",
       "      <td>11</td>\n",
       "      <td>1</td>\n",
       "      <td>0</td>\n",
       "      <td>0</td>\n",
       "      <td>2</td>\n",
       "    </tr>\n",
       "    <tr>\n",
       "      <th>4</th>\n",
       "      <td>1821</td>\n",
       "      <td>1</td>\n",
       "      <td>1.2</td>\n",
       "      <td>0</td>\n",
       "      <td>13</td>\n",
       "      <td>1</td>\n",
       "      <td>44</td>\n",
       "      <td>0.6</td>\n",
       "      <td>141</td>\n",
       "      <td>2</td>\n",
       "      <td>...</td>\n",
       "      <td>1208</td>\n",
       "      <td>1212</td>\n",
       "      <td>1411</td>\n",
       "      <td>8</td>\n",
       "      <td>2</td>\n",
       "      <td>15</td>\n",
       "      <td>1</td>\n",
       "      <td>1</td>\n",
       "      <td>0</td>\n",
       "      <td>1</td>\n",
       "    </tr>\n",
       "  </tbody>\n",
       "</table>\n",
       "<p>5 rows × 21 columns</p>\n",
       "</div>"
      ],
      "text/plain": [
       "   battery_power  bluetooth  clock_speed  dual_sim  front_cam  4G  int_memory  \\\n",
       "0            842          0          2.2         0          1   0           7   \n",
       "1           1021          1          0.5         1          0   1          53   \n",
       "2            563          1          0.5         1          2   1          41   \n",
       "3            615          1          2.5         0          0   0          10   \n",
       "4           1821          1          1.2         0         13   1          44   \n",
       "\n",
       "   m_dep  mobile_wt  n_cores  ...  px_height  px_width   ram  sc_h  sc_w  \\\n",
       "0    0.6        188        2  ...         20       756  2549     9     7   \n",
       "1    0.7        136        3  ...        905      1988  2631    17     3   \n",
       "2    0.9        145        5  ...       1263      1716  2603    11     2   \n",
       "3    0.8        131        6  ...       1216      1786  2769    16     8   \n",
       "4    0.6        141        2  ...       1208      1212  1411     8     2   \n",
       "\n",
       "   talk_time  three_g  touch_screen  wifi  price_range  \n",
       "0         19        0             0     1            1  \n",
       "1          7        1             1     0            2  \n",
       "2          9        1             1     0            2  \n",
       "3         11        1             0     0            2  \n",
       "4         15        1             1     0            1  \n",
       "\n",
       "[5 rows x 21 columns]"
      ]
     },
     "execution_count": 2,
     "metadata": {},
     "output_type": "execute_result"
    }
   ],
   "source": [
    "df = pd.read_csv('mobile_price_classification.csv')\n",
    "df.head()"
   ]
  },
  {
   "cell_type": "code",
   "execution_count": 3,
   "id": "cefe1398",
   "metadata": {},
   "outputs": [
    {
     "name": "stdout",
     "output_type": "stream",
     "text": [
      "<class 'pandas.core.frame.DataFrame'>\n",
      "RangeIndex: 2000 entries, 0 to 1999\n",
      "Data columns (total 21 columns):\n",
      " #   Column          Non-Null Count  Dtype  \n",
      "---  ------          --------------  -----  \n",
      " 0   battery_power   2000 non-null   int64  \n",
      " 1   bluetooth       2000 non-null   int64  \n",
      " 2   clock_speed     2000 non-null   float64\n",
      " 3   dual_sim        2000 non-null   int64  \n",
      " 4   front_cam       2000 non-null   int64  \n",
      " 5   4G              2000 non-null   int64  \n",
      " 6   int_memory      2000 non-null   int64  \n",
      " 7   m_dep           2000 non-null   float64\n",
      " 8   mobile_wt       2000 non-null   int64  \n",
      " 9   n_cores         2000 non-null   int64  \n",
      " 10  primary_camera  2000 non-null   int64  \n",
      " 11  px_height       2000 non-null   int64  \n",
      " 12  px_width        2000 non-null   int64  \n",
      " 13  ram             2000 non-null   int64  \n",
      " 14  sc_h            2000 non-null   int64  \n",
      " 15  sc_w            2000 non-null   int64  \n",
      " 16  talk_time       2000 non-null   int64  \n",
      " 17  three_g         2000 non-null   int64  \n",
      " 18  touch_screen    2000 non-null   int64  \n",
      " 19  wifi            2000 non-null   int64  \n",
      " 20  price_range     2000 non-null   int64  \n",
      "dtypes: float64(2), int64(19)\n",
      "memory usage: 328.2 KB\n"
     ]
    }
   ],
   "source": [
    "df.info()"
   ]
  },
  {
   "cell_type": "code",
   "execution_count": 4,
   "id": "8c513009",
   "metadata": {},
   "outputs": [
    {
     "data": {
      "text/plain": [
       "array([1, 2, 3, 0], dtype=int64)"
      ]
     },
     "execution_count": 4,
     "metadata": {},
     "output_type": "execute_result"
    }
   ],
   "source": [
    "df['price_range'].unique()"
   ]
  },
  {
   "cell_type": "markdown",
   "id": "d9bc38c8",
   "metadata": {},
   "source": [
    "**Inference:**\n",
    "\n",
    "* There are 20 features an one label column.\n",
    "* All of them are of int64 or float64 data types.\n",
    "* Dataset having 2000 observations.\n",
    "* Label column is having 4 classes so that this is a multicalass classfication problem."
   ]
  },
  {
   "cell_type": "markdown",
   "id": "e2f14fb7",
   "metadata": {},
   "source": [
    "### Data preprocessing "
   ]
  },
  {
   "cell_type": "code",
   "execution_count": 5,
   "id": "21521be1",
   "metadata": {},
   "outputs": [],
   "source": [
    "# Min-Max Scaling \n",
    "\n",
    "from sklearn.preprocessing import MinMaxScaler\n",
    "sc = MinMaxScaler()\n",
    "df['battery_power'] = sc.fit_transform(df[['battery_power']])\n",
    "df['clock_speed'] = sc.fit_transform(df[['clock_speed']])\n",
    "df['int_memory'] = sc.fit_transform(df[['int_memory']])\n",
    "df['mobile_wt'] = sc.fit_transform(df[['mobile_wt']])\n",
    "df['px_height'] = sc.fit_transform(df[['px_height']])\n",
    "df['px_width'] = sc.fit_transform(df[['px_width']])\n",
    "df['ram'] = sc.fit_transform(df[['ram']])"
   ]
  },
  {
   "cell_type": "code",
   "execution_count": 6,
   "id": "0d0230ca",
   "metadata": {},
   "outputs": [],
   "source": [
    "#Splitting dataset into label and data.\n",
    "\n",
    "data = df.drop('price_range',axis=1)\n",
    "label = df.price_range"
   ]
  },
  {
   "cell_type": "code",
   "execution_count": 7,
   "id": "ac9a5761",
   "metadata": {},
   "outputs": [],
   "source": [
    "from sklearn.model_selection import train_test_split\n",
    "X_train, X_test, y_train, y_test = train_test_split(data, label, test_size=0.25, random_state=42)"
   ]
  },
  {
   "cell_type": "code",
   "execution_count": 8,
   "id": "8f7e8faf",
   "metadata": {},
   "outputs": [
    {
     "data": {
      "text/plain": [
       "(1500, 20)"
      ]
     },
     "execution_count": 8,
     "metadata": {},
     "output_type": "execute_result"
    }
   ],
   "source": [
    "X_train.shape"
   ]
  },
  {
   "cell_type": "markdown",
   "id": "ef48c62c",
   "metadata": {},
   "source": [
    "### ANN Model Building"
   ]
  },
  {
   "cell_type": "code",
   "execution_count": 9,
   "id": "c18dc418",
   "metadata": {},
   "outputs": [],
   "source": [
    "from keras.models import Sequential\n",
    "from keras.layers import Dense"
   ]
  },
  {
   "cell_type": "code",
   "execution_count": 10,
   "id": "3a46a1fb",
   "metadata": {},
   "outputs": [],
   "source": [
    "model = Sequential()\n",
    "\n",
    "model.add(Dense(10,activation='relu'))\n",
    "model.add(Dense(4,activation='softmax'))"
   ]
  },
  {
   "cell_type": "code",
   "execution_count": 11,
   "id": "878a8b6b",
   "metadata": {},
   "outputs": [],
   "source": [
    "model.compile(loss='sparse_categorical_crossentropy', optimizer='adam', metrics=['accuracy'])"
   ]
  },
  {
   "cell_type": "code",
   "execution_count": 12,
   "id": "966a883b",
   "metadata": {
    "scrolled": false
   },
   "outputs": [
    {
     "name": "stdout",
     "output_type": "stream",
     "text": [
      "Epoch 1/100\n",
      "47/47 [==============================] - 1s 3ms/step - loss: 4.4679 - accuracy: 0.2420\n",
      "Epoch 2/100\n",
      "47/47 [==============================] - 0s 2ms/step - loss: 2.6701 - accuracy: 0.2353\n",
      "Epoch 3/100\n",
      "47/47 [==============================] - 0s 2ms/step - loss: 1.9278 - accuracy: 0.2293\n",
      "Epoch 4/100\n",
      "47/47 [==============================] - 0s 3ms/step - loss: 1.6680 - accuracy: 0.2407\n",
      "Epoch 5/100\n",
      "47/47 [==============================] - 0s 3ms/step - loss: 1.5753 - accuracy: 0.2440\n",
      "Epoch 6/100\n",
      "47/47 [==============================] - 0s 2ms/step - loss: 1.5255 - accuracy: 0.2520\n",
      "Epoch 7/100\n",
      "47/47 [==============================] - 0s 2ms/step - loss: 1.4934 - accuracy: 0.2500\n",
      "Epoch 8/100\n",
      "47/47 [==============================] - 0s 2ms/step - loss: 1.4699 - accuracy: 0.2600\n",
      "Epoch 9/100\n",
      "47/47 [==============================] - 0s 3ms/step - loss: 1.4523 - accuracy: 0.2593\n",
      "Epoch 10/100\n",
      "47/47 [==============================] - 0s 3ms/step - loss: 1.4412 - accuracy: 0.2560\n",
      "Epoch 11/100\n",
      "47/47 [==============================] - 0s 3ms/step - loss: 1.4285 - accuracy: 0.2673\n",
      "Epoch 12/100\n",
      "47/47 [==============================] - 0s 2ms/step - loss: 1.4185 - accuracy: 0.2667\n",
      "Epoch 13/100\n",
      "47/47 [==============================] - 0s 2ms/step - loss: 1.4102 - accuracy: 0.2713\n",
      "Epoch 14/100\n",
      "47/47 [==============================] - 0s 2ms/step - loss: 1.4034 - accuracy: 0.2753\n",
      "Epoch 15/100\n",
      "47/47 [==============================] - 0s 2ms/step - loss: 1.3960 - accuracy: 0.2773\n",
      "Epoch 16/100\n",
      "47/47 [==============================] - 0s 2ms/step - loss: 1.3910 - accuracy: 0.2800\n",
      "Epoch 17/100\n",
      "47/47 [==============================] - 0s 3ms/step - loss: 1.3839 - accuracy: 0.2887\n",
      "Epoch 18/100\n",
      "47/47 [==============================] - 0s 3ms/step - loss: 1.3809 - accuracy: 0.2893\n",
      "Epoch 19/100\n",
      "47/47 [==============================] - 0s 2ms/step - loss: 1.3754 - accuracy: 0.2980\n",
      "Epoch 20/100\n",
      "47/47 [==============================] - 0s 2ms/step - loss: 1.3713 - accuracy: 0.3067\n",
      "Epoch 21/100\n",
      "47/47 [==============================] - 0s 3ms/step - loss: 1.3652 - accuracy: 0.2993\n",
      "Epoch 22/100\n",
      "47/47 [==============================] - 0s 3ms/step - loss: 1.3609 - accuracy: 0.3093\n",
      "Epoch 23/100\n",
      "47/47 [==============================] - 0s 2ms/step - loss: 1.3560 - accuracy: 0.3193\n",
      "Epoch 24/100\n",
      "47/47 [==============================] - 0s 2ms/step - loss: 1.3498 - accuracy: 0.3200\n",
      "Epoch 25/100\n",
      "47/47 [==============================] - 0s 3ms/step - loss: 1.3448 - accuracy: 0.3260\n",
      "Epoch 26/100\n",
      "47/47 [==============================] - 0s 3ms/step - loss: 1.3386 - accuracy: 0.3400\n",
      "Epoch 27/100\n",
      "47/47 [==============================] - 0s 3ms/step - loss: 1.3318 - accuracy: 0.3300\n",
      "Epoch 28/100\n",
      "47/47 [==============================] - 0s 3ms/step - loss: 1.3253 - accuracy: 0.3373\n",
      "Epoch 29/100\n",
      "47/47 [==============================] - 0s 2ms/step - loss: 1.3191 - accuracy: 0.3467\n",
      "Epoch 30/100\n",
      "47/47 [==============================] - 0s 2ms/step - loss: 1.3097 - accuracy: 0.3580\n",
      "Epoch 31/100\n",
      "47/47 [==============================] - 0s 2ms/step - loss: 1.3025 - accuracy: 0.3613\n",
      "Epoch 32/100\n",
      "47/47 [==============================] - 0s 2ms/step - loss: 1.2932 - accuracy: 0.3693\n",
      "Epoch 33/100\n",
      "47/47 [==============================] - 0s 2ms/step - loss: 1.2858 - accuracy: 0.3913\n",
      "Epoch 34/100\n",
      "47/47 [==============================] - 0s 2ms/step - loss: 1.2747 - accuracy: 0.3940\n",
      "Epoch 35/100\n",
      "47/47 [==============================] - 0s 2ms/step - loss: 1.2646 - accuracy: 0.4147\n",
      "Epoch 36/100\n",
      "47/47 [==============================] - 0s 2ms/step - loss: 1.2543 - accuracy: 0.4280\n",
      "Epoch 37/100\n",
      "47/47 [==============================] - 0s 2ms/step - loss: 1.2417 - accuracy: 0.4393\n",
      "Epoch 38/100\n",
      "47/47 [==============================] - 0s 2ms/step - loss: 1.2309 - accuracy: 0.4680\n",
      "Epoch 39/100\n",
      "47/47 [==============================] - 0s 2ms/step - loss: 1.2179 - accuracy: 0.4873\n",
      "Epoch 40/100\n",
      "47/47 [==============================] - 0s 3ms/step - loss: 1.2044 - accuracy: 0.5120\n",
      "Epoch 41/100\n",
      "47/47 [==============================] - 0s 3ms/step - loss: 1.1902 - accuracy: 0.5227\n",
      "Epoch 42/100\n",
      "47/47 [==============================] - 0s 2ms/step - loss: 1.1768 - accuracy: 0.5353\n",
      "Epoch 43/100\n",
      "47/47 [==============================] - 0s 3ms/step - loss: 1.1649 - accuracy: 0.5367\n",
      "Epoch 44/100\n",
      "47/47 [==============================] - 0s 3ms/step - loss: 1.1471 - accuracy: 0.5520\n",
      "Epoch 45/100\n",
      "47/47 [==============================] - 0s 2ms/step - loss: 1.1314 - accuracy: 0.5780\n",
      "Epoch 46/100\n",
      "47/47 [==============================] - 0s 2ms/step - loss: 1.1161 - accuracy: 0.5780\n",
      "Epoch 47/100\n",
      "47/47 [==============================] - 0s 2ms/step - loss: 1.1015 - accuracy: 0.5833\n",
      "Epoch 48/100\n",
      "47/47 [==============================] - 0s 3ms/step - loss: 1.0840 - accuracy: 0.5960\n",
      "Epoch 49/100\n",
      "47/47 [==============================] - 0s 2ms/step - loss: 1.0690 - accuracy: 0.5993\n",
      "Epoch 50/100\n",
      "47/47 [==============================] - 0s 2ms/step - loss: 1.0551 - accuracy: 0.5960\n",
      "Epoch 51/100\n",
      "47/47 [==============================] - 0s 2ms/step - loss: 1.0391 - accuracy: 0.6167\n",
      "Epoch 52/100\n",
      "47/47 [==============================] - 0s 2ms/step - loss: 1.0227 - accuracy: 0.6153\n",
      "Epoch 53/100\n",
      "47/47 [==============================] - 0s 2ms/step - loss: 1.0085 - accuracy: 0.6247\n",
      "Epoch 54/100\n",
      "47/47 [==============================] - 0s 2ms/step - loss: 0.9948 - accuracy: 0.6287\n",
      "Epoch 55/100\n",
      "47/47 [==============================] - 0s 2ms/step - loss: 0.9778 - accuracy: 0.6347\n",
      "Epoch 56/100\n",
      "47/47 [==============================] - 0s 2ms/step - loss: 0.9663 - accuracy: 0.6360\n",
      "Epoch 57/100\n",
      "47/47 [==============================] - 0s 2ms/step - loss: 0.9506 - accuracy: 0.6560\n",
      "Epoch 58/100\n",
      "47/47 [==============================] - 0s 2ms/step - loss: 0.9326 - accuracy: 0.6420\n",
      "Epoch 59/100\n",
      "47/47 [==============================] - 0s 3ms/step - loss: 0.8996 - accuracy: 0.6453\n",
      "Epoch 60/100\n",
      "47/47 [==============================] - 0s 4ms/step - loss: 0.8672 - accuracy: 0.6700\n",
      "Epoch 61/100\n",
      "47/47 [==============================] - 0s 5ms/step - loss: 0.8436 - accuracy: 0.6887\n",
      "Epoch 62/100\n",
      "47/47 [==============================] - 0s 4ms/step - loss: 0.8286 - accuracy: 0.6953\n",
      "Epoch 63/100\n",
      "47/47 [==============================] - 0s 2ms/step - loss: 0.8116 - accuracy: 0.7020\n",
      "Epoch 64/100\n",
      "47/47 [==============================] - 0s 2ms/step - loss: 0.7979 - accuracy: 0.7000\n",
      "Epoch 65/100\n",
      "47/47 [==============================] - 0s 2ms/step - loss: 0.7837 - accuracy: 0.7253\n",
      "Epoch 66/100\n",
      "47/47 [==============================] - 0s 2ms/step - loss: 0.7696 - accuracy: 0.7227\n",
      "Epoch 67/100\n",
      "47/47 [==============================] - 0s 4ms/step - loss: 0.7565 - accuracy: 0.7327\n",
      "Epoch 68/100\n",
      "47/47 [==============================] - 0s 5ms/step - loss: 0.7462 - accuracy: 0.7407\n",
      "Epoch 69/100\n",
      "47/47 [==============================] - 0s 3ms/step - loss: 0.7364 - accuracy: 0.7447\n",
      "Epoch 70/100\n",
      "47/47 [==============================] - 0s 3ms/step - loss: 0.7269 - accuracy: 0.7533\n",
      "Epoch 71/100\n",
      "47/47 [==============================] - 0s 2ms/step - loss: 0.7149 - accuracy: 0.7527\n",
      "Epoch 72/100\n",
      "47/47 [==============================] - 0s 2ms/step - loss: 0.7078 - accuracy: 0.7567\n",
      "Epoch 73/100\n",
      "47/47 [==============================] - 0s 2ms/step - loss: 0.6969 - accuracy: 0.7667\n",
      "Epoch 74/100\n",
      "47/47 [==============================] - 0s 2ms/step - loss: 0.6911 - accuracy: 0.7580\n",
      "Epoch 75/100\n",
      "47/47 [==============================] - 0s 2ms/step - loss: 0.6789 - accuracy: 0.7720\n",
      "Epoch 76/100\n",
      "47/47 [==============================] - 0s 2ms/step - loss: 0.6720 - accuracy: 0.7787\n",
      "Epoch 77/100\n",
      "47/47 [==============================] - 0s 2ms/step - loss: 0.6653 - accuracy: 0.7700\n",
      "Epoch 78/100\n",
      "47/47 [==============================] - 0s 2ms/step - loss: 0.6553 - accuracy: 0.7780\n",
      "Epoch 79/100\n",
      "47/47 [==============================] - 0s 3ms/step - loss: 0.6506 - accuracy: 0.7793\n",
      "Epoch 80/100\n",
      "47/47 [==============================] - 0s 2ms/step - loss: 0.6411 - accuracy: 0.7907\n",
      "Epoch 81/100\n",
      "47/47 [==============================] - 0s 2ms/step - loss: 0.6348 - accuracy: 0.7907\n",
      "Epoch 82/100\n",
      "47/47 [==============================] - 0s 2ms/step - loss: 0.6269 - accuracy: 0.7927\n",
      "Epoch 83/100\n",
      "47/47 [==============================] - 0s 3ms/step - loss: 0.6213 - accuracy: 0.7913\n",
      "Epoch 84/100\n",
      "47/47 [==============================] - 0s 2ms/step - loss: 0.6163 - accuracy: 0.7973\n",
      "Epoch 85/100\n",
      "47/47 [==============================] - 0s 2ms/step - loss: 0.6112 - accuracy: 0.7960\n",
      "Epoch 86/100\n",
      "47/47 [==============================] - 0s 3ms/step - loss: 0.6039 - accuracy: 0.7993\n",
      "Epoch 87/100\n",
      "47/47 [==============================] - 0s 2ms/step - loss: 0.5970 - accuracy: 0.7993\n",
      "Epoch 88/100\n",
      "47/47 [==============================] - 0s 2ms/step - loss: 0.5944 - accuracy: 0.8080\n",
      "Epoch 89/100\n",
      "47/47 [==============================] - 0s 2ms/step - loss: 0.5884 - accuracy: 0.8047\n",
      "Epoch 90/100\n",
      "47/47 [==============================] - 0s 2ms/step - loss: 0.5818 - accuracy: 0.8073\n",
      "Epoch 91/100\n",
      "47/47 [==============================] - 0s 2ms/step - loss: 0.5752 - accuracy: 0.8127\n",
      "Epoch 92/100\n",
      "47/47 [==============================] - 0s 2ms/step - loss: 0.5710 - accuracy: 0.8120\n",
      "Epoch 93/100\n",
      "47/47 [==============================] - 0s 2ms/step - loss: 0.5659 - accuracy: 0.8240\n",
      "Epoch 94/100\n",
      "47/47 [==============================] - 0s 2ms/step - loss: 0.5650 - accuracy: 0.8107\n",
      "Epoch 95/100\n",
      "47/47 [==============================] - 0s 2ms/step - loss: 0.5548 - accuracy: 0.8307\n",
      "Epoch 96/100\n",
      "47/47 [==============================] - 0s 2ms/step - loss: 0.5530 - accuracy: 0.8173\n",
      "Epoch 97/100\n",
      "47/47 [==============================] - 0s 3ms/step - loss: 0.5462 - accuracy: 0.8320\n",
      "Epoch 98/100\n",
      "47/47 [==============================] - 0s 3ms/step - loss: 0.5455 - accuracy: 0.8220\n",
      "Epoch 99/100\n",
      "47/47 [==============================] - 0s 3ms/step - loss: 0.5402 - accuracy: 0.8313\n",
      "Epoch 100/100\n",
      "47/47 [==============================] - 0s 2ms/step - loss: 0.5334 - accuracy: 0.8367\n"
     ]
    }
   ],
   "source": [
    "history = model.fit(X_train, y_train, epochs=100)"
   ]
  },
  {
   "cell_type": "markdown",
   "id": "fca97187",
   "metadata": {},
   "source": [
    "**Inferences:**\n",
    "\n",
    "* Got an accuracy of 0.83"
   ]
  },
  {
   "cell_type": "code",
   "execution_count": 13,
   "id": "1af97d83",
   "metadata": {},
   "outputs": [
    {
     "name": "stdout",
     "output_type": "stream",
     "text": [
      "Model: \"sequential\"\n",
      "_________________________________________________________________\n",
      " Layer (type)                Output Shape              Param #   \n",
      "=================================================================\n",
      " dense (Dense)               (None, 10)                210       \n",
      "                                                                 \n",
      " dense_1 (Dense)             (None, 4)                 44        \n",
      "                                                                 \n",
      "=================================================================\n",
      "Total params: 254\n",
      "Trainable params: 254\n",
      "Non-trainable params: 0\n",
      "_________________________________________________________________\n"
     ]
    }
   ],
   "source": [
    "model.summary()"
   ]
  },
  {
   "cell_type": "code",
   "execution_count": 14,
   "id": "e98309d9",
   "metadata": {},
   "outputs": [
    {
     "data": {
      "image/png": "[encoded data removed]",
      "text/plain": [
       "<Figure size 432x288 with 1 Axes>"
      ]
     },
     "metadata": {
      "needs_background": "light"
     },
     "output_type": "display_data"
    }
   ],
   "source": [
    "import matplotlib.pyplot as plt\n",
    "\n",
    "plt.plot(history.history['accuracy'])\n",
    "plt.title('model accuracy plot')\n",
    "plt.ylabel('accuracy')\n",
    "plt.xlabel('epoch')\n",
    "plt.show()\n",
    "\n",
    "# plotting accuracy plot"
   ]
  },
  {
   "cell_type": "code",
   "execution_count": 15,
   "id": "c906d4e6",
   "metadata": {},
   "outputs": [
    {
     "data": {
      "image/png": "[encoded data removed]",
      "text/plain": [
       "<Figure size 432x288 with 1 Axes>"
      ]
     },
     "metadata": {
      "needs_background": "light"
     },
     "output_type": "display_data"
    }
   ],
   "source": [
    "plt.plot(history.history['loss'])\n",
    "plt.title('model loss plot')\n",
    "plt.ylabel('loss')\n",
    "plt.xlabel('epoch')\n",
    "plt.show()\n",
    "\n",
    "#plotting loss plot"
   ]
  },
  {
   "cell_type": "markdown",
   "id": "576ae7f9",
   "metadata": {},
   "source": [
    "##### Jibin K Joy, ML & AI, KKEM August 2022 Batch"
   ]
  },
  {
   "cell_type": "code",
   "execution_count": null,
   "id": "25affd65",
   "metadata": {},
   "outputs": [],
   "source": []
  }
 ],
 "metadata": {
  "kernelspec": {
   "display_name": "Python 3",
   "language": "python",
   "name": "python3"
  },
  "language_info": {
   "codemirror_mode": {
    "name": "ipython",
    "version": 3
   },
   "file_extension": ".py",
   "mimetype": "text/x-python",
   "name": "python",
   "nbconvert_exporter": "python",
   "pygments_lexer": "ipython3",
   "version": "3.8.8"
  }
 },
 "nbformat": 4,
 "nbformat_minor": 5
}
