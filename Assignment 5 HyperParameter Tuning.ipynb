{
 "cells": [
  {
   "cell_type": "markdown",
   "id": "be1f6ec3",
   "metadata": {},
   "source": [
    "# Assignment 05\n",
    "# Random search and HyperOpt"
   ]
  },
  {
   "cell_type": "markdown",
   "id": "57f8db2b",
   "metadata": {},
   "source": [
    "**Objectives:**\n",
    "\n",
    "1. Load titanic.csv file.\n",
    "\n",
    "2. Select ‘Pclass’,’SibSp’,’Parch’, ‘Fare’; columns as data. Select ‘Survived’ column as label.\n",
    "\n",
    "3. Apply SVM to classify the data.\n",
    "\n",
    "4. Use 5-Fold Cross Validation to generalise the model accuracy.\n",
    "\n",
    "5. Use random search and hyperopt packages to identify the best possible SVM model from the following search space.\n",
    "\n",
    "* 'C': [0.1, 1, 10, 100, 1000]\n",
    "* 'gamma': [1, 0.1, 0.01, 0.001, 0.0001] \n",
    "* 'kernel': ['rbf']"
   ]
  },
  {
   "cell_type": "code",
   "execution_count": 1,
   "id": "f22d4278",
   "metadata": {},
   "outputs": [],
   "source": [
    "# import libraries\n",
    "\n",
    "import pandas as pd\n",
    "import numpy as np\n",
    "import matplotlib.pyplot as plt\n",
    "from sklearn.metrics import accuracy_score,classification_report,confusion_matrix\n",
    "\n",
    "import warnings\n",
    "warnings.filterwarnings('ignore')"
   ]
  },
  {
   "cell_type": "markdown",
   "id": "769d8d00",
   "metadata": {},
   "source": [
    "## Loading Dataset "
   ]
  },
  {
   "cell_type": "code",
   "execution_count": 2,
   "id": "739fdf51",
   "metadata": {},
   "outputs": [
    {
     "data": {
      "text/html": [
       "<div>\n",
       "<style scoped>\n",
       "    .dataframe tbody tr th:only-of-type {\n",
       "        vertical-align: middle;\n",
       "    }\n",
       "\n",
       "    .dataframe tbody tr th {\n",
       "        vertical-align: top;\n",
       "    }\n",
       "\n",
       "    .dataframe thead th {\n",
       "        text-align: right;\n",
       "    }\n",
       "</style>\n",
       "<table border=\"1\" class=\"dataframe\">\n",
       "  <thead>\n",
       "    <tr style=\"text-align: right;\">\n",
       "      <th></th>\n",
       "      <th>PassengerId</th>\n",
       "      <th>Survived</th>\n",
       "      <th>Pclass</th>\n",
       "      <th>Name</th>\n",
       "      <th>Sex</th>\n",
       "      <th>Age</th>\n",
       "      <th>SibSp</th>\n",
       "      <th>Parch</th>\n",
       "      <th>Ticket</th>\n",
       "      <th>Fare</th>\n",
       "      <th>Cabin</th>\n",
       "      <th>Embarked</th>\n",
       "    </tr>\n",
       "  </thead>\n",
       "  <tbody>\n",
       "    <tr>\n",
       "      <th>0</th>\n",
       "      <td>1</td>\n",
       "      <td>0</td>\n",
       "      <td>3</td>\n",
       "      <td>Braund, Mr. Owen Harris</td>\n",
       "      <td>male</td>\n",
       "      <td>22.0</td>\n",
       "      <td>1</td>\n",
       "      <td>0</td>\n",
       "      <td>A/5 21171</td>\n",
       "      <td>7.2500</td>\n",
       "      <td>NaN</td>\n",
       "      <td>S</td>\n",
       "    </tr>\n",
       "    <tr>\n",
       "      <th>1</th>\n",
       "      <td>2</td>\n",
       "      <td>1</td>\n",
       "      <td>1</td>\n",
       "      <td>Cumings, Mrs. John Bradley (Florence Briggs Th...</td>\n",
       "      <td>female</td>\n",
       "      <td>38.0</td>\n",
       "      <td>1</td>\n",
       "      <td>0</td>\n",
       "      <td>PC 17599</td>\n",
       "      <td>71.2833</td>\n",
       "      <td>C85</td>\n",
       "      <td>C</td>\n",
       "    </tr>\n",
       "    <tr>\n",
       "      <th>2</th>\n",
       "      <td>3</td>\n",
       "      <td>1</td>\n",
       "      <td>3</td>\n",
       "      <td>Heikkinen, Miss. Laina</td>\n",
       "      <td>female</td>\n",
       "      <td>26.0</td>\n",
       "      <td>0</td>\n",
       "      <td>0</td>\n",
       "      <td>STON/O2. 3101282</td>\n",
       "      <td>7.9250</td>\n",
       "      <td>NaN</td>\n",
       "      <td>S</td>\n",
       "    </tr>\n",
       "    <tr>\n",
       "      <th>3</th>\n",
       "      <td>4</td>\n",
       "      <td>1</td>\n",
       "      <td>1</td>\n",
       "      <td>Futrelle, Mrs. Jacques Heath (Lily May Peel)</td>\n",
       "      <td>female</td>\n",
       "      <td>35.0</td>\n",
       "      <td>1</td>\n",
       "      <td>0</td>\n",
       "      <td>113803</td>\n",
       "      <td>53.1000</td>\n",
       "      <td>C123</td>\n",
       "      <td>S</td>\n",
       "    </tr>\n",
       "    <tr>\n",
       "      <th>4</th>\n",
       "      <td>5</td>\n",
       "      <td>0</td>\n",
       "      <td>3</td>\n",
       "      <td>Allen, Mr. William Henry</td>\n",
       "      <td>male</td>\n",
       "      <td>35.0</td>\n",
       "      <td>0</td>\n",
       "      <td>0</td>\n",
       "      <td>373450</td>\n",
       "      <td>8.0500</td>\n",
       "      <td>NaN</td>\n",
       "      <td>S</td>\n",
       "    </tr>\n",
       "  </tbody>\n",
       "</table>\n",
       "</div>"
      ],
      "text/plain": [
       "   PassengerId  Survived  Pclass  \\\n",
       "0            1         0       3   \n",
       "1            2         1       1   \n",
       "2            3         1       3   \n",
       "3            4         1       1   \n",
       "4            5         0       3   \n",
       "\n",
       "                                                Name     Sex   Age  SibSp  \\\n",
       "0                            Braund, Mr. Owen Harris    male  22.0      1   \n",
       "1  Cumings, Mrs. John Bradley (Florence Briggs Th...  female  38.0      1   \n",
       "2                             Heikkinen, Miss. Laina  female  26.0      0   \n",
       "3       Futrelle, Mrs. Jacques Heath (Lily May Peel)  female  35.0      1   \n",
       "4                           Allen, Mr. William Henry    male  35.0      0   \n",
       "\n",
       "   Parch            Ticket     Fare Cabin Embarked  \n",
       "0      0         A/5 21171   7.2500   NaN        S  \n",
       "1      0          PC 17599  71.2833   C85        C  \n",
       "2      0  STON/O2. 3101282   7.9250   NaN        S  \n",
       "3      0            113803  53.1000  C123        S  \n",
       "4      0            373450   8.0500   NaN        S  "
      ]
     },
     "execution_count": 2,
     "metadata": {},
     "output_type": "execute_result"
    }
   ],
   "source": [
    "df = pd.read_csv('titanic.csv')\n",
    "df.head()"
   ]
  },
  {
   "cell_type": "code",
   "execution_count": 3,
   "id": "bee9abd3",
   "metadata": {},
   "outputs": [
    {
     "name": "stdout",
     "output_type": "stream",
     "text": [
      "<class 'pandas.core.frame.DataFrame'>\n",
      "RangeIndex: 891 entries, 0 to 890\n",
      "Data columns (total 12 columns):\n",
      " #   Column       Non-Null Count  Dtype  \n",
      "---  ------       --------------  -----  \n",
      " 0   PassengerId  891 non-null    int64  \n",
      " 1   Survived     891 non-null    int64  \n",
      " 2   Pclass       891 non-null    int64  \n",
      " 3   Name         891 non-null    object \n",
      " 4   Sex          891 non-null    object \n",
      " 5   Age          714 non-null    float64\n",
      " 6   SibSp        891 non-null    int64  \n",
      " 7   Parch        891 non-null    int64  \n",
      " 8   Ticket       891 non-null    object \n",
      " 9   Fare         891 non-null    float64\n",
      " 10  Cabin        204 non-null    object \n",
      " 11  Embarked     889 non-null    object \n",
      "dtypes: float64(2), int64(5), object(5)\n",
      "memory usage: 83.7+ KB\n"
     ]
    }
   ],
   "source": [
    "df.info()"
   ]
  },
  {
   "cell_type": "code",
   "execution_count": 4,
   "id": "4e487aa7",
   "metadata": {},
   "outputs": [],
   "source": [
    "#Select 'Pclass','SibSp','Parch','Fare' columns as data. Select ‘Survived’ column as label.\n",
    "\n",
    "X = df[['Pclass','SibSp','Parch','Fare']]\n",
    "y = df.Survived"
   ]
  },
  {
   "cell_type": "code",
   "execution_count": 5,
   "id": "7f6a1409",
   "metadata": {},
   "outputs": [
    {
     "data": {
      "text/html": [
       "<div>\n",
       "<style scoped>\n",
       "    .dataframe tbody tr th:only-of-type {\n",
       "        vertical-align: middle;\n",
       "    }\n",
       "\n",
       "    .dataframe tbody tr th {\n",
       "        vertical-align: top;\n",
       "    }\n",
       "\n",
       "    .dataframe thead th {\n",
       "        text-align: right;\n",
       "    }\n",
       "</style>\n",
       "<table border=\"1\" class=\"dataframe\">\n",
       "  <thead>\n",
       "    <tr style=\"text-align: right;\">\n",
       "      <th></th>\n",
       "      <th>Pclass</th>\n",
       "      <th>SibSp</th>\n",
       "      <th>Parch</th>\n",
       "      <th>Fare</th>\n",
       "    </tr>\n",
       "  </thead>\n",
       "  <tbody>\n",
       "    <tr>\n",
       "      <th>0</th>\n",
       "      <td>3</td>\n",
       "      <td>1</td>\n",
       "      <td>0</td>\n",
       "      <td>7.2500</td>\n",
       "    </tr>\n",
       "    <tr>\n",
       "      <th>1</th>\n",
       "      <td>1</td>\n",
       "      <td>1</td>\n",
       "      <td>0</td>\n",
       "      <td>71.2833</td>\n",
       "    </tr>\n",
       "    <tr>\n",
       "      <th>2</th>\n",
       "      <td>3</td>\n",
       "      <td>0</td>\n",
       "      <td>0</td>\n",
       "      <td>7.9250</td>\n",
       "    </tr>\n",
       "    <tr>\n",
       "      <th>3</th>\n",
       "      <td>1</td>\n",
       "      <td>1</td>\n",
       "      <td>0</td>\n",
       "      <td>53.1000</td>\n",
       "    </tr>\n",
       "    <tr>\n",
       "      <th>4</th>\n",
       "      <td>3</td>\n",
       "      <td>0</td>\n",
       "      <td>0</td>\n",
       "      <td>8.0500</td>\n",
       "    </tr>\n",
       "  </tbody>\n",
       "</table>\n",
       "</div>"
      ],
      "text/plain": [
       "   Pclass  SibSp  Parch     Fare\n",
       "0       3      1      0   7.2500\n",
       "1       1      1      0  71.2833\n",
       "2       3      0      0   7.9250\n",
       "3       1      1      0  53.1000\n",
       "4       3      0      0   8.0500"
      ]
     },
     "execution_count": 5,
     "metadata": {},
     "output_type": "execute_result"
    }
   ],
   "source": [
    "X.head()"
   ]
  },
  {
   "cell_type": "markdown",
   "id": "c8f85d19",
   "metadata": {},
   "source": [
    "**Inferences:**\n",
    "* There are some null values in Age and Cabin columns.\n",
    "* There are 891 observations and 12 features"
   ]
  },
  {
   "cell_type": "markdown",
   "id": "08e4df4f",
   "metadata": {},
   "source": [
    "## Model Building"
   ]
  },
  {
   "cell_type": "code",
   "execution_count": 6,
   "id": "24a63fa3",
   "metadata": {},
   "outputs": [],
   "source": [
    "# Apply SVM to classify the data\n",
    "\n",
    "from sklearn.model_selection import train_test_split\n",
    "X_train, X_test, y_train, y_test = train_test_split(X, y, test_size=0.20)"
   ]
  },
  {
   "cell_type": "markdown",
   "id": "2e8b75fc",
   "metadata": {},
   "source": [
    "## SVM"
   ]
  },
  {
   "cell_type": "code",
   "execution_count": 7,
   "id": "f49b2332",
   "metadata": {},
   "outputs": [
    {
     "name": "stdout",
     "output_type": "stream",
     "text": [
      "Accuracy Score:\n",
      " 0.6703910614525139\n",
      "Confusion Matrix:\n",
      " [[97 22]\n",
      " [37 23]]\n",
      "Classification Report:\n",
      "               precision    recall  f1-score   support\n",
      "\n",
      "           0       0.72      0.82      0.77       119\n",
      "           1       0.51      0.38      0.44        60\n",
      "\n",
      "    accuracy                           0.67       179\n",
      "   macro avg       0.62      0.60      0.60       179\n",
      "weighted avg       0.65      0.67      0.66       179\n",
      "\n"
     ]
    }
   ],
   "source": [
    "from sklearn.svm import SVC\n",
    "model_svc = SVC(kernel='linear', C=1, gamma='auto')\n",
    "model_svc.fit(X_train,y_train)\n",
    "\n",
    "y_pred = model_svc.predict(X_test)\n",
    "\n",
    "print('Accuracy Score:\\n',accuracy_score(y_test, y_pred))\n",
    "print('Confusion Matrix:\\n',confusion_matrix(y_test, y_pred))\n",
    "print('Classification Report:\\n',classification_report(y_test,y_pred))"
   ]
  },
  {
   "cell_type": "code",
   "execution_count": 8,
   "id": "f2775e30",
   "metadata": {},
   "outputs": [
    {
     "name": "stdout",
     "output_type": "stream",
     "text": [
      "Cross Validation Scores are: [0.61452514 0.65730337 0.66292135 0.7247191  0.74719101]\n",
      "\n",
      "Average of Cross Validation Scores: 0.6813319942250958\n"
     ]
    }
   ],
   "source": [
    "# Use 5-Fold Cross Validation to generalise the model accuracy.\n",
    "\n",
    "from sklearn.model_selection import cross_val_score,KFold\n",
    "\n",
    "kf=KFold(n_splits=5)\n",
    "score=cross_val_score(model_svc,X,y,cv=kf)\n",
    "\n",
    "print(\"Cross Validation Scores are: {}\\n\".format(score))\n",
    "\n",
    "print(\"Average of Cross Validation Scores: {}\".format(score.mean()))"
   ]
  },
  {
   "cell_type": "code",
   "execution_count": 9,
   "id": "ad8f2705",
   "metadata": {},
   "outputs": [],
   "source": [
    "# Use random search and hyperopt packages to identify the best possible SVM model from the following search space.\n",
    "# 'C': [0.1, 1, 10, 100, 1000]\n",
    "# 'gamma': [1, 0.1, 0.01, 0.001, 0.0001] \n",
    "# 'kernel': ['rbf']\n",
    "\n",
    "search_space ={'C': [0.1, 1, 10, 100, 1000],\n",
    "     'gamma': [1, 0.1, 0.01, 0.001, 0.0001],\n",
    "     'kernel': ['rbf']}"
   ]
  },
  {
   "cell_type": "markdown",
   "id": "f073da2d",
   "metadata": {},
   "source": [
    "## Random Search"
   ]
  },
  {
   "cell_type": "code",
   "execution_count": 10,
   "id": "90a2020f",
   "metadata": {},
   "outputs": [
    {
     "name": "stdout",
     "output_type": "stream",
     "text": [
      "Fitting 5 folds for each of 25 candidates, totalling 125 fits\n",
      "Best Score:  71.36314389835518\n",
      "Best Params:  {'kernel': 'rbf', 'gamma': 1, 'C': 1}\n"
     ]
    }
   ],
   "source": [
    "from sklearn.model_selection import RandomizedSearchCV\n",
    "random_search=RandomizedSearchCV(estimator = SVC(), param_distributions=search_space,verbose=2, n_jobs=-1,\n",
    "                            n_iter=50)\n",
    "random_result = random_search.fit(X_train, y_train)\n",
    "print('Best Score: ', random_result.best_score_*100)\n",
    "print('Best Params: ', random_result.best_params_)"
   ]
  },
  {
   "cell_type": "code",
   "execution_count": 11,
   "id": "c217b21d",
   "metadata": {},
   "outputs": [
    {
     "name": "stdout",
     "output_type": "stream",
     "text": [
      "Accuracy Score:\n",
      " 0.6759776536312849\n",
      "Confusion Matrix:\n",
      " [[91 28]\n",
      " [30 30]]\n",
      "Classification Report:\n",
      "               precision    recall  f1-score   support\n",
      "\n",
      "           0       0.75      0.76      0.76       119\n",
      "           1       0.52      0.50      0.51        60\n",
      "\n",
      "    accuracy                           0.68       179\n",
      "   macro avg       0.63      0.63      0.63       179\n",
      "weighted avg       0.67      0.68      0.67       179\n",
      "\n"
     ]
    }
   ],
   "source": [
    "from sklearn.svm import SVC\n",
    "model_svc = SVC(kernel='rbf', C=1000, gamma=0.001)\n",
    "model_svc.fit(X_train,y_train)\n",
    "\n",
    "y_pred = model_svc.predict(X_test)\n",
    "\n",
    "print('Accuracy Score:\\n',accuracy_score(y_test, y_pred))\n",
    "print('Confusion Matrix:\\n',confusion_matrix(y_test, y_pred))\n",
    "print('Classification Report:\\n',classification_report(y_test,y_pred))"
   ]
  },
  {
   "cell_type": "code",
   "execution_count": 12,
   "id": "2165ff8a",
   "metadata": {},
   "outputs": [
    {
     "name": "stdout",
     "output_type": "stream",
     "text": [
      "Cross Validation Scores are: [0.63687151 0.64606742 0.73033708 0.71348315 0.74157303]\n",
      "\n",
      "Average of Cross Validation Scores: 0.6936664365074383\n"
     ]
    }
   ],
   "source": [
    "# Use 5-Fold Cross Validation to generalise the model accuracy.\n",
    "\n",
    "from sklearn.model_selection import cross_val_score,KFold\n",
    "\n",
    "kf=KFold(n_splits=5)\n",
    "score=cross_val_score(model_svc,X,y,cv=kf)\n",
    "\n",
    "print(\"Cross Validation Scores are: {}\\n\".format(score))\n",
    "\n",
    "print(\"Average of Cross Validation Scores: {}\".format(score.mean()))"
   ]
  },
  {
   "cell_type": "markdown",
   "id": "9a573792",
   "metadata": {},
   "source": [
    "## HypetOpt"
   ]
  },
  {
   "cell_type": "code",
   "execution_count": 13,
   "id": "83d270c2",
   "metadata": {},
   "outputs": [],
   "source": [
    "from hyperopt import tpe, hp, fmin, STATUS_OK,Trials\n",
    "\n",
    "# define objective function\n",
    "\n",
    "def hyperparameter_tuning(params):\n",
    "    clf = SVC(**params)\n",
    "    acc = cross_val_score(clf, X, y,scoring=\"accuracy\").mean()\n",
    "    return {\"loss\": -acc, \"status\": STATUS_OK}\n"
   ]
  },
  {
   "cell_type": "code",
   "execution_count": 14,
   "id": "8729e87a",
   "metadata": {},
   "outputs": [
    {
     "name": "stdout",
     "output_type": "stream",
     "text": [
      "100%|███████████████████████████████████████████████| 50/50 [02:06<00:00,  2.53s/trial, best loss: -0.7060134329295085]\n",
      "Best: {'C': 4, 'gamma': 1, 'kernel': 0}\n"
     ]
    }
   ],
   "source": [
    "# Initialize trials object\n",
    "\n",
    "search_space = {\n",
    "    \"C\": hp.choice(\"C\", [0.1, 1, 10, 100, 1000]),\n",
    "    \"gamma\": hp.choice(\"gamma\", [1, 0.1, 0.01, 0.001, 0.0001]),\n",
    "    \"kernel\": hp.choice(\"kernel\", ['rbf']),\n",
    "}\n",
    "\n",
    "trials = Trials()\n",
    "\n",
    "best = fmin(\n",
    "    fn=hyperparameter_tuning,\n",
    "    space = search_space, \n",
    "    algo=tpe.suggest, \n",
    "    max_evals=50, \n",
    "    trials=trials\n",
    ")\n",
    "\n",
    "print(\"Best: {}\".format(best))"
   ]
  },
  {
   "cell_type": "code",
   "execution_count": 15,
   "id": "add36b08",
   "metadata": {},
   "outputs": [
    {
     "name": "stdout",
     "output_type": "stream",
     "text": [
      "Accuracy Score:\n",
      " 0.6703910614525139\n",
      "Confusion Matrix:\n",
      " [[93 26]\n",
      " [33 27]]\n",
      "Classification Report:\n",
      "               precision    recall  f1-score   support\n",
      "\n",
      "           0       0.74      0.78      0.76       119\n",
      "           1       0.51      0.45      0.48        60\n",
      "\n",
      "    accuracy                           0.67       179\n",
      "   macro avg       0.62      0.62      0.62       179\n",
      "weighted avg       0.66      0.67      0.66       179\n",
      "\n"
     ]
    }
   ],
   "source": [
    "from sklearn.svm import SVC\n",
    "model_svc = SVC(kernel='rbf', C=1000, gamma=0.1)\n",
    "model_svc.fit(X_train,y_train)\n",
    "\n",
    "y_pred = model_svc.predict(X_test)\n",
    "\n",
    "print('Accuracy Score:\\n',accuracy_score(y_test, y_pred))\n",
    "print('Confusion Matrix:\\n',confusion_matrix(y_test, y_pred))\n",
    "print('Classification Report:\\n',classification_report(y_test,y_pred))"
   ]
  },
  {
   "cell_type": "code",
   "execution_count": 16,
   "id": "4a448b0e",
   "metadata": {},
   "outputs": [
    {
     "name": "stdout",
     "output_type": "stream",
     "text": [
      "Cross Validation Scores are: [0.67039106 0.63483146 0.75280899 0.70224719 0.7752809 ]\n",
      "\n",
      "Average of Cross Validation Scores: 0.7071119201556713\n"
     ]
    }
   ],
   "source": [
    "# Use 5-Fold Cross Validation to generalise the model accuracy.\n",
    "\n",
    "from sklearn.model_selection import cross_val_score,KFold\n",
    "\n",
    "kf=KFold(n_splits=5)\n",
    "score=cross_val_score(model_svc,X,y,cv=kf)\n",
    "\n",
    "print(\"Cross Validation Scores are: {}\\n\".format(score))\n",
    "\n",
    "print(\"Average of Cross Validation Scores: {}\".format(score.mean()))"
   ]
  },
  {
   "cell_type": "markdown",
   "id": "5dc3fdd5",
   "metadata": {},
   "source": [
    "**Findings:**\n",
    "\n",
    "Cross Validation Score of **SVM** before hyperparameter tuning is : **0.6813**\n",
    "\n",
    "|Tuning Method|'C'|Gamma|kernal|Cross Validation Score|\n",
    "|-|-|-|-|-|\n",
    "|Random Search|1000|rbf|0.001|0.6936|\n",
    "HyperOpt|1000|rbf|0.1|**0.7071**|"
   ]
  },
  {
   "cell_type": "markdown",
   "id": "61f1b6f5",
   "metadata": {},
   "source": [
    "##### Jibin K Joy, ML & AI, KKEM August 2022 Batch"
   ]
  },
  {
   "cell_type": "code",
   "execution_count": null,
   "id": "223702ed",
   "metadata": {},
   "outputs": [],
   "source": []
  }
 ],
 "metadata": {
  "kernelspec": {
   "display_name": "Python 3",
   "language": "python",
   "name": "python3"
  },
  "language_info": {
   "codemirror_mode": {
    "name": "ipython",
    "version": 3
   },
   "file_extension": ".py",
   "mimetype": "text/x-python",
   "name": "python",
   "nbconvert_exporter": "python",
   "pygments_lexer": "ipython3",
   "version": "3.8.8"
  }
 },
 "nbformat": 4,
 "nbformat_minor": 5
}
